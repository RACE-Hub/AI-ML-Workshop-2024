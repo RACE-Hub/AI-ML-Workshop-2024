{
 "cells": [
  {
   "cell_type": "markdown",
   "metadata": {},
   "source": [
    "# <a name=\"0\">RACE Workshop - Introduction to ML</a>\n",
    "\n",
    "\n",
    "## K Nearest Neighbors Model \n",
    "\n",
    "In this notebook, we build a [__K Nearest Neighbors Classifier__](https://scikit-learn.org/stable/modules/generated/sklearn.neighbors.KNeighborsClassifier.html) to predict the __Outcome Type__ field of our review dataset.\n",
    "\n",
    "1. <a href=\"#1\">Read the dataset</a>\n",
    "2. <a href=\"#2\">Exploratory Data Analysis</a>\n",
    "3. <a href=\"#3\">Select features to build the model</a>\n",
    "4. <a href=\"#4\">Training and test datasets</a>\n",
    "5. <a href=\"#5\">Data processing with Pipeline</a>\n",
    "6. <a href=\"#6\">Train a classifier</a>\n",
    "7. <a href=\"#7\">Test the classifier</a>\n",
    "8. <a href=\"#8\">Improvement ideas</a>\n",
    "\n",
    "__Austin Animal Center Dataset__:\n",
    "\n",
    "In this exercise, we are working with pet adoption data from __Austin Animal Center__. We have two datasets that cover intake and outcome of animals. Intake data is available from [here](https://data.austintexas.gov/Health-and-Community-Services/Austin-Animal-Center-Intakes/wter-evkm) and outcome is from [here](https://data.austintexas.gov/Health-and-Community-Services/Austin-Animal-Center-Outcomes/9t4d-g238). \n",
    "\n",
    "In order to work with a single table, we joined the intake and outcome tables using the \"Animal ID\" column and created a single __review.csv__ file. We also didn't consider animals with multiple entries to the facility to keep our dataset simple. If you want to see the original datasets and the merged data with multiple entries, they are available under data/review folder: Austin_Animal_Center_Intakes.csv, Austin_Animal_Center_Outcomes.csv and Austin_Animal_Center_Intakes_Outcomes.csv.\n",
    "\n",
    "__Dataset schema:__ \n",
    "- __Pet ID__ - Unique ID of pet\n",
    "- __Outcome Type__ - State of pet at the time of recording the outcome (0 = not placed, 1 = placed). This is the field to predict.\n",
    "- __Sex upon Outcome__ - Sex of pet at outcome\n",
    "- __Name__ - Name of pet \n",
    "- __Found Location__ - Found location of pet before entered the center\n",
    "- __Intake Type__ - Circumstances bringing the pet to the center\n",
    "- __Intake Condition__ - Health condition of pet when entered the center\n",
    "- __Pet Type__ - Type of pet\n",
    "- __Sex upon Intake__ - Sex of pet when entered the center\n",
    "- __Breed__ - Breed of pet \n",
    "- __Color__ - Color of pet \n",
    "- __Age upon Intake Days__ - Age of pet when entered the center (days)\n",
    "- __Age upon Outcome Days__ - Age of pet at outcome (days)\n"
   ]
  },
  {
   "cell_type": "code",
   "execution_count": 3,
   "metadata": {},
   "outputs": [
    {
     "name": "stdout",
     "output_type": "stream",
     "text": [
      "\u001b[31mERROR: Ignored the following yanked versions: 0.0.2, 0.0.3, 0.0.4, 0.0.5, 0.0.6, 0.0.7, 0.0.8, 0.0.9, 0.0.10, 0.0.11, 0.0.12, 0.0.13, 0.0.14, 0.0.15\u001b[0m\u001b[31m\r\n",
      "\u001b[0m\u001b[31mERROR: Ignored the following versions that require a different python version: 0.1.0 Requires-Python >=3.6, <3.9; 0.1.0b20210207 Requires-Python >=3.6, <3.8; 0.1.0b20210208 Requires-Python >=3.6, <3.8; 0.1.0b20210209 Requires-Python >=3.6, <3.8; 0.1.0b20210210 Requires-Python >=3.6, <3.8; 0.1.0b20210211 Requires-Python >=3.6, <3.8; 0.1.0b20210212 Requires-Python >=3.6, <3.8; 0.1.0b20210213 Requires-Python >=3.6, <3.8; 0.1.0b20210214 Requires-Python >=3.6, <3.8; 0.1.0b20210215 Requires-Python >=3.6, <3.8; 0.1.0b20210216 Requires-Python >=3.6, <3.8; 0.1.0b20210217 Requires-Python >=3.6, <3.8; 0.1.0b20210218 Requires-Python >=3.6, <3.8; 0.1.0b20210219 Requires-Python >=3.6, <3.8; 0.1.0b20210220 Requires-Python >=3.6, <3.8; 0.1.0b20210221 Requires-Python >=3.6, <3.8; 0.1.0b20210222 Requires-Python >=3.6, <3.8; 0.1.0b20210223 Requires-Python >=3.6, <3.8; 0.1.0b20210224 Requires-Python >=3.6, <3.8; 0.1.0b20210225 Requires-Python >=3.6, <3.9; 0.1.0b20210226 Requires-Python >=3.6, <3.9; 0.1.0b20210227 Requires-Python >=3.6, <3.9; 0.1.0b20210228 Requires-Python >=3.6, <3.9; 0.1.1b20210302 Requires-Python >=3.6, <3.9; 0.1.1b20210303 Requires-Python >=3.6, <3.9; 0.1.1b20210304 Requires-Python >=3.6, <3.9; 0.1.1b20210305 Requires-Python >=3.6, <3.9; 0.1.1b20210306 Requires-Python >=3.6, <3.9; 0.1.1b20210307 Requires-Python >=3.6, <3.9; 0.1.1b20210308 Requires-Python >=3.6, <3.9; 0.1.1b20210309 Requires-Python >=3.6, <3.9; 0.1.1b20210310 Requires-Python >=3.6, <3.9; 0.1.1b20210311 Requires-Python >=3.6, <3.9; 0.1.1b20210312 Requires-Python >=3.6, <3.9; 0.1.1b20210313 Requires-Python >=3.6, <3.9; 0.1.1b20210314 Requires-Python >=3.6, <3.9; 0.1.1b20210315 Requires-Python >=3.6, <3.9; 0.1.1b20210317 Requires-Python >=3.6, <3.9; 0.1.1b20210318 Requires-Python >=3.6, <3.9; 0.1.1b20210319 Requires-Python >=3.6, <3.9; 0.1.1b20210320 Requires-Python >=3.6, <3.9; 0.1.1b20210321 Requires-Python >=3.6, <3.9; 0.1.1b20210322 Requires-Python >=3.6, <3.9; 0.1.1b20210323 Requires-Python >=3.6, <3.9; 0.1.1b20210324 Requires-Python >=3.6, <3.9; 0.1.1b20210325 Requires-Python >=3.6, <3.9; 0.1.1b20210326 Requires-Python >=3.6, <3.9; 0.1.1b20210327 Requires-Python >=3.6, <3.9; 0.1.1b20210328 Requires-Python >=3.6, <3.9; 0.1.1b20210329 Requires-Python >=3.6, <3.9; 0.1.1b20210330 Requires-Python >=3.6, <3.9; 0.1.1b20210331 Requires-Python >=3.6, <3.9; 0.1.1b20210401 Requires-Python >=3.6, <3.9; 0.1.1b20210402 Requires-Python >=3.6, <3.9; 0.1.1b20210403 Requires-Python >=3.6, <3.9; 0.1.1b20210404 Requires-Python >=3.6, <3.9; 0.1.1b20210405 Requires-Python >=3.6, <3.9; 0.1.1b20210406 Requires-Python >=3.6, <3.9; 0.1.1b20210407 Requires-Python >=3.6, <3.9; 0.1.1b20210408 Requires-Python >=3.6, <3.9; 0.1.1b20210409 Requires-Python >=3.6, <3.9; 0.1.1b20210410 Requires-Python >=3.6, <3.9; 0.1.1b20210411 Requires-Python >=3.6, <3.9; 0.1.1b20210412 Requires-Python >=3.6, <3.9; 0.1.1b20210413 Requires-Python >=3.6, <3.9; 0.1.1b20210414 Requires-Python >=3.6, <3.9; 0.1.1b20210415 Requires-Python >=3.6, <3.9; 0.1.1b20210416 Requires-Python >=3.6, <3.9; 0.1.1b20210417 Requires-Python >=3.6, <3.9; 0.1.1b20210418 Requires-Python >=3.6, <3.9; 0.1.1b20210419 Requires-Python >=3.6, <3.9; 0.1.1b20210420 Requires-Python >=3.6, <3.9; 0.1.1b20210421 Requires-Python >=3.6, <3.9; 0.1.1b20210422 Requires-Python >=3.6, <3.9; 0.1.1b20210423 Requires-Python >=3.6, <3.9; 0.1.1b20210424 Requires-Python >=3.6, <3.9; 0.1.1b20210425 Requires-Python >=3.6, <3.9; 0.1.1b20210426 Requires-Python >=3.6, <3.9; 0.2.0 Requires-Python >=3.6, <3.9; 0.2.0b20210427 Requires-Python >=3.6, <3.9; 0.2.0b20210428 Requires-Python >=3.6, <3.9; 0.2.1b20210429 Requires-Python >=3.6, <3.9; 0.2.1b20210430 Requires-Python >=3.6, <3.9; 0.2.1b20210501 Requires-Python >=3.6, <3.9; 0.2.1b20210502 Requires-Python >=3.6, <3.9; 0.2.1b20210503 Requires-Python >=3.6, <3.9; 0.2.1b20210504 Requires-Python >=3.6, <3.9; 0.2.1b20210505 Requires-Python >=3.6, <3.9; 0.2.1b20210506 Requires-Python >=3.6, <3.9; 0.2.1b20210507 Requires-Python >=3.6, <3.9; 0.2.1b20210508 Requires-Python >=3.6, <3.9; 0.2.1b20210509 Requires-Python >=3.6, <3.9; 0.2.1b20210510 Requires-Python >=3.6, <3.9; 0.2.1b20210511 Requires-Python >=3.6, <3.9; 0.2.1b20210512 Requires-Python >=3.6, <3.9; 0.2.1b20210513 Requires-Python >=3.6, <3.9; 0.2.1b20210514 Requires-Python >=3.6, <3.9; 0.2.1b20210515 Requires-Python >=3.6, <3.9; 0.2.1b20210517 Requires-Python >=3.6, <3.9; 0.2.1b20210518 Requires-Python >=3.6, <3.9; 0.2.1b20210519 Requires-Python >=3.6, <3.9; 0.2.1b20210520 Requires-Python >=3.6, <3.9; 0.2.1b20210521 Requires-Python >=3.6, <3.9; 0.2.1b20210522 Requires-Python >=3.6, <3.9; 0.2.1b20210523 Requires-Python >=3.6, <3.9; 0.2.1b20210524 Requires-Python >=3.6, <3.9; 0.2.1b20210525 Requires-Python >=3.6, <3.9; 0.2.1b20210526 Requires-Python >=3.6, <3.9; 0.2.1b20210527 Requires-Python >=3.6, <3.9; 0.2.1b20210528 Requires-Python >=3.6, <3.9; 0.2.1b20210529 Requires-Python >=3.6, <3.9; 0.2.1b20210530 Requires-Python >=3.6, <3.9; 0.2.1b20210531 Requires-Python >=3.6, <3.9; 0.2.1b20210601 Requires-Python >=3.6, <3.9; 0.2.1b20210602 Requires-Python >=3.6, <3.9; 0.2.1b20210603 Requires-Python >=3.6, <3.9; 0.2.1b20210604 Requires-Python >=3.6, <3.9; 0.2.1b20210605 Requires-Python >=3.6, <3.9; 0.2.1b20210606 Requires-Python >=3.6, <3.9; 0.2.1b20210607 Requires-Python >=3.6, <3.9; 0.2.1b20210608 Requires-Python >=3.6, <3.9; 0.2.1b20210609 Requires-Python >=3.6, <3.9; 0.2.1b20210610 Requires-Python >=3.6, <3.9; 0.2.1b20210611 Requires-Python >=3.6, <3.9; 0.2.1b20210612 Requires-Python >=3.6, <3.9; 0.2.1b20210613 Requires-Python >=3.6, <3.9; 0.2.1b20210614 Requires-Python >=3.6, <3.9; 0.2.1b20210615 Requires-Python >=3.6, <3.9; 0.2.1b20210616 Requires-Python >=3.6, <3.9; 0.2.1b20210617 Requires-Python >=3.6, <3.9; 0.2.1b20210618 Requires-Python >=3.6, <3.9; 0.2.1b20210619 Requires-Python >=3.6, <3.9; 0.2.1b20210620 Requires-Python >=3.6, <3.9; 0.2.1b20210621 Requires-Python >=3.6, <3.9; 0.2.1b20210622 Requires-Python >=3.6, <3.9; 0.2.1b20210623 Requires-Python >=3.6, <3.9; 0.2.1b20210624 Requires-Python >=3.6, <3.9; 0.2.1b20210625 Requires-Python >=3.6, <3.9; 0.2.1b20210626 Requires-Python >=3.6, <3.9; 0.2.1b20210627 Requires-Python >=3.6, <3.9; 0.2.1b20210628 Requires-Python >=3.6, <3.9; 0.2.1b20210629 Requires-Python >=3.6, <3.9; 0.2.1b20210630 Requires-Python >=3.6, <3.9; 0.2.1b20210701 Requires-Python >=3.6, <3.9; 0.2.1b20210702 Requires-Python >=3.6, <3.9; 0.2.1b20210703 Requires-Python >=3.6, <3.9; 0.2.1b20210704 Requires-Python >=3.6, <3.9; 0.2.1b20210705 Requires-Python >=3.6, <3.9; 0.2.1b20210706 Requires-Python >=3.6, <3.9; 0.2.1b20210707 Requires-Python >=3.6, <3.9; 0.2.1b20210708 Requires-Python >=3.6, <3.9; 0.2.1b20210709 Requires-Python >=3.6, <3.9; 0.2.1b20210710 Requires-Python >=3.6, <3.9; 0.2.1b20210711 Requires-Python >=3.6, <3.9; 0.2.1b20210712 Requires-Python >=3.6, <3.9; 0.2.1b20210713 Requires-Python >=3.6, <3.9; 0.2.1b20210714 Requires-Python >=3.6, <3.9; 0.2.1b20210715 Requires-Python >=3.6, <3.9; 0.2.1b20210716 Requires-Python >=3.6, <3.9; 0.2.1b20210717 Requires-Python >=3.6, <3.9; 0.2.1b20210718 Requires-Python >=3.6, <3.9; 0.2.1b20210719 Requires-Python >=3.6, <3.9; 0.2.1b20210720 Requires-Python >=3.6, <3.9; 0.2.1b20210721 Requires-Python >=3.6, <3.9; 0.2.1b20210722 Requires-Python >=3.6, <3.9; 0.2.1b20210723 Requires-Python >=3.6, <3.9; 0.2.1b20210724 Requires-Python >=3.6, <3.9; 0.2.1b20210725 Requires-Python >=3.6, <3.9; 0.2.1b20210726 Requires-Python >=3.6, <3.9; 0.2.1b20210727 Requires-Python >=3.6, <3.9; 0.2.1b20210728 Requires-Python >=3.6, <3.9; 0.2.1b20210729 Requires-Python >=3.6, <3.9; 0.2.1b20210730 Requires-Python >=3.6, <3.9; 0.2.1b20210731 Requires-Python >=3.6, <3.9; 0.2.1b20210801 Requires-Python >=3.6, <3.9; 0.2.1b20210802 Requires-Python >=3.6, <3.9; 0.2.1b20210803 Requires-Python >=3.6, <3.9; 0.2.1b20210804 Requires-Python >=3.6, <3.9; 0.2.1b20210805 Requires-Python >=3.6, <3.9; 0.2.1b20210806 Requires-Python >=3.6, <3.9; 0.2.1b20210807 Requires-Python >=3.6, <3.9; 0.2.1b20210808 Requires-Python >=3.6, <3.9; 0.2.1b20210809 Requires-Python >=3.6, <3.9; 0.2.1b20210810 Requires-Python >=3.6, <3.9; 0.2.1b20210811 Requires-Python >=3.6, <3.9; 0.2.1b20210812 Requires-Python >=3.6, <3.9; 0.2.1b20210813 Requires-Python >=3.6, <3.9; 0.3.0 Requires-Python >=3.6, <3.9; 0.3.0b20210814 Requires-Python >=3.6, <3.9; 0.3.1 Requires-Python >=3.6, <3.9; 0.3.1b20210815 Requires-Python >=3.6, <3.9; 0.3.1b20210816 Requires-Python >=3.6, <3.9; 0.3.1b20210817 Requires-Python >=3.6, <3.9; 0.3.1b20210818 Requires-Python >=3.6, <3.9; 0.3.1b20210819 Requires-Python >=3.6, <3.9; 0.3.1b20210820 Requires-Python >=3.6, <3.9; 0.3.1b20210821 Requires-Python >=3.6, <3.9; 0.3.1b20210822 Requires-Python >=3.6, <3.9; 0.3.1b20210823 Requires-Python >=3.6, <3.9; 0.3.1b20210824 Requires-Python >=3.6, <3.9; 0.3.1b20210825 Requires-Python >=3.6, <3.9; 0.3.1b20210826 Requires-Python >=3.6, <3.9; 0.3.1b20210827 Requires-Python >=3.6, <3.9; 0.3.1b20210828 Requires-Python >=3.6, <3.9; 0.3.1b20210829 Requires-Python >=3.6, <3.9; 0.3.1b20210830 Requires-Python >=3.6, <3.9; 0.3.1b20210831 Requires-Python >=3.6, <3.9; 0.3.2b20210901 Requires-Python >=3.6, <3.9; 0.3.2b20210902 Requires-Python >=3.6, <3.9; 0.3.2b20210903 Requires-Python >=3.6, <3.9; 0.3.2b20210904 Requires-Python >=3.6, <3.9; 0.3.2b20210905 Requires-Python >=3.6, <3.9; 0.3.2b20210906 Requires-Python >=3.6, <3.9; 0.3.2b20210907 Requires-Python >=3.6, <3.9; 0.3.2b20210908 Requires-Python >=3.6, <3.9; 0.3.2b20210909 Requires-Python >=3.6, <3.9; 0.3.2b20210910 Requires-Python >=3.6, <3.9; 0.3.2b20210911 Requires-Python >=3.6, <3.9; 0.3.2b20210912 Requires-Python >=3.6, <3.9; 0.3.2b20210913 Requires-Python >=3.6, <3.9; 0.3.2b20210914 Requires-Python >=3.6, <3.9; 0.3.2b20210915 Requires-Python >=3.6, <3.9; 0.3.2b20210916 Requires-Python >=3.6, <3.9; 0.3.2b20210917 Requires-Python >=3.6, <3.9; 0.3.2b20210918 Requires-Python >=3.6, <3.9; 0.3.2b20210919 Requires-Python >=3.6, <3.9; 0.3.2b20210920 Requires-Python >=3.6, <3.9; 0.3.2b20210921 Requires-Python >=3.6, <3.9; 0.3.2b20210922 Requires-Python >=3.6, <3.9; 0.3.2b20210923 Requires-Python >=3.6, <3.9; 0.3.2b20210924 Requires-Python >=3.6, <3.9; 0.3.2b20210925 Requires-Python >=3.6, <3.9; 0.3.2b20210926 Requires-Python >=3.6, <3.9; 0.3.2b20210927 Requires-Python >=3.6, <3.9; 0.3.2b20210928 Requires-Python >=3.6, <3.9; 0.3.2b20210929 Requires-Python >=3.6, <3.9; 0.3.2b20210930 Requires-Python >=3.6, <3.9; 0.3.2b20211001 Requires-Python >=3.6, <3.9; 0.3.2b20211002 Requires-Python >=3.6, <3.9; 0.3.2b20211003 Requires-Python >=3.6, <3.9; 0.3.2b20211004 Requires-Python >=3.6, <3.9; 0.3.2b20211005 Requires-Python >=3.6, <3.9; 0.3.2b20211006 Requires-Python >=3.6, <3.9; 0.3.2b20211007 Requires-Python >=3.6, <3.9; 0.3.2b20211008 Requires-Python >=3.6, <3.9; 0.3.2b20211009 Requires-Python >=3.6, <3.9; 0.3.2b20211010 Requires-Python >=3.6, <3.9; 0.3.2b20211011 Requires-Python >=3.6, <3.9; 0.3.2b20211012 Requires-Python >=3.6, <3.9; 0.3.2b20211013 Requires-Python >=3.6, <3.9; 0.3.2b20211014 Requires-Python >=3.6, <3.9; 0.3.2b20211015 Requires-Python >=3.6, <3.9; 0.3.2b20211016 Requires-Python >=3.6, <3.9; 0.3.2b20211017 Requires-Python >=3.6, <3.9; 0.3.2b20211018 Requires-Python >=3.6, <3.9; 0.3.2b20211019 Requires-Python >=3.6, <3.9; 0.3.2b20211020 Requires-Python >=3.6, <3.10; 0.3.2b20211021 Requires-Python >=3.6, <3.10; 0.3.2b20211022 Requires-Python >=3.6, <3.10; 0.3.2b20211023 Requires-Python >=3.6, <3.10; 0.3.2b20211024 Requires-Python >=3.6, <3.10; 0.3.2b20211025 Requires-Python >=3.6, <3.10; 0.3.2b20211026 Requires-Python >=3.6, <3.10; 0.3.2b20211027 Requires-Python >=3.6, <3.10; 0.3.2b20211028 Requires-Python >=3.6, <3.10; 0.3.2b20211029 Requires-Python >=3.6, <3.10; 0.3.2b20211030 Requires-Python >=3.6, <3.10; 0.3.2b20211031 Requires-Python >=3.6, <3.10; 0.3.2b20211101 Requires-Python >=3.6, <3.10; 0.3.2b20211102 Requires-Python >=3.6, <3.10; 0.3.2b20211103 Requires-Python >=3.6, <3.10; 0.3.2b20211104 Requires-Python >=3.6, <3.10; 0.3.2b20211105 Requires-Python >=3.6, <3.10; 0.3.2b20211106 Requires-Python >=3.6, <3.10; 0.3.2b20211107 Requires-Python >=3.6, <3.10; 0.3.2b20211108 Requires-Python >=3.6, <3.10; 0.3.2b20211109 Requires-Python >=3.6, <3.10; 0.3.2b20211110 Requires-Python >=3.6, <3.10; 0.3.2b20211111 Requires-Python >=3.6, <3.10; 0.3.2b20211112 Requires-Python >=3.7, <3.10; 0.3.2b20211113 Requires-Python >=3.7, <3.10; 0.3.2b20211114 Requires-Python >=3.7, <3.10; 0.3.2b20211115 Requires-Python >=3.7, <3.10; 0.3.2b20211116 Requires-Python >=3.7, <3.10; 0.3.2b20211117 Requires-Python >=3.7, <3.10; 0.3.2b20211118 Requires-Python >=3.7, <3.10; 0.3.2b20211119 Requires-Python >=3.7, <3.10; 0.3.2b20211120 Requires-Python >=3.7, <3.10; 0.3.2b20211121 Requires-Python >=3.7, <3.10; 0.3.2b20211122 Requires-Python >=3.7, <3.10; 0.3.2b20211123 Requires-Python >=3.7, <3.10; 0.3.2b20211124 Requires-Python >=3.7, <3.10; 0.3.2b20211125 Requires-Python >=3.7, <3.10; 0.3.2b20211126 Requires-Python >=3.7, <3.10; 0.3.2b20211127 Requires-Python >=3.7, <3.10; 0.3.2b20211128 Requires-Python >=3.7, <3.10; 0.3.2b20211129 Requires-Python >=3.7, <3.10; 0.3.2b20211130 Requires-Python >=3.7, <3.10; 0.3.2b20211201 Requires-Python >=3.7, <3.10; 0.3.2b20211202 Requires-Python >=3.7, <3.10; 0.3.2b20211203 Requires-Python >=3.7, <3.10; 0.3.2b20211204 Requires-Python >=3.7, <3.10; 0.3.2b20211205 Requires-Python >=3.7, <3.10; 0.3.2b20211206 Requires-Python >=3.7, <3.10; 0.3.2b20211207 Requires-Python >=3.7, <3.10; 0.3.2b20211208 Requires-Python >=3.7, <3.10; 0.3.2b20211209 Requires-Python >=3.7, <3.10; 0.3.2b20211210 Requires-Python >=3.7, <3.10; 0.3.2b20211211 Requires-Python >=3.7, <3.10; 0.3.2b20211212 Requires-Python >=3.7, <3.10; 0.3.2b20211213 Requires-Python >=3.7, <3.10; 0.3.2b20211214 Requires-Python >=3.7, <3.10; 0.3.2b20211215 Requires-Python >=3.7, <3.10; 0.3.2b20211216 Requires-Python >=3.7, <3.10; 0.3.2b20211217 Requires-Python >=3.7, <3.10; 0.3.2b20211218 Requires-Python >=3.7, <3.10; 0.3.2b20211219 Requires-Python >=3.7, <3.10; 0.3.2b20211220 Requires-Python >=3.7, <3.10; 0.3.2b20211221 Requires-Python >=3.7, <3.10; 0.3.2b20211222 Requires-Python >=3.7, <3.10; 0.3.2b20211223 Requires-Python >=3.7, <3.10; 0.3.2b20211224 Requires-Python >=3.7, <3.10; 0.3.2b20211225 Requires-Python >=3.7, <3.10; 0.3.2b20211226 Requires-Python >=3.7, <3.10; 0.3.2b20211227 Requires-Python >=3.7, <3.10; 0.3.2b20211228 Requires-Python >=3.7, <3.10; 0.3.2b20211229 Requires-Python >=3.7, <3.10; 0.3.2b20211230 Requires-Python >=3.7, <3.10; 0.3.2b20211231 Requires-Python >=3.7, <3.10; 0.3.2b20220101 Requires-Python >=3.7, <3.10; 0.3.2b20220102 Requires-Python >=3.7, <3.10; 0.3.2b20220103 Requires-Python >=3.7, <3.10; 0.3.2b20220104 Requires-Python >=3.7, <3.10; 0.3.2b20220105 Requires-Python >=3.7, <3.10; 0.3.2b20220106 Requires-Python >=3.7, <3.10; 0.3.2b20220107 Requires-Python >=3.7, <3.10; 0.3.2b20220108 Requires-Python >=3.7, <3.10; 0.3.2b20220109 Requires-Python >=3.7, <3.10; 0.3.2b20220110 Requires-Python >=3.7, <3.10; 0.3.2b20220111 Requires-Python >=3.7, <3.10; 0.3.2b20220112 Requires-Python >=3.7, <3.10; 0.3.2b20220113 Requires-Python >=3.7, <3.10; 0.3.2b20220114 Requires-Python >=3.7, <3.10; 0.3.2b20220115 Requires-Python >=3.7, <3.10; 0.3.2b20220116 Requires-Python >=3.7, <3.10; 0.3.2b20220117 Requires-Python >=3.7, <3.10; 0.3.2b20220118 Requires-Python >=3.7, <3.10; 0.3.2b20220119 Requires-Python >=3.7, <3.10; 0.3.2b20220120 Requires-Python >=3.7, <3.10; 0.3.2b20220121 Requires-Python >=3.7, <3.10; 0.3.2b20220122 Requires-Python >=3.7, <3.10; 0.3.2b20220123 Requires-Python >=3.7, <3.10; 0.3.2b20220124 Requires-Python >=3.7, <3.10; 0.3.2b20220125 Requires-Python >=3.7, <3.10; 0.3.2b20220126 Requires-Python >=3.7, <3.10; 0.3.2b20220127 Requires-Python >=3.7, <3.10; 0.3.2b20220128 Requires-Python >=3.7, <3.10; 0.3.2b20220129 Requires-Python >=3.7, <3.10; 0.3.2b20220130 Requires-Python >=3.7, <3.10; 0.3.2b20220131 Requires-Python >=3.7, <3.10; 0.3.2b20220201 Requires-Python >=3.7, <3.10; 0.3.2b20220202 Requires-Python >=3.7, <3.10; 0.3.2b20220203 Requires-Python >=3.7, <3.10; 0.3.2b20220204 Requires-Python >=3.7, <3.10; 0.3.2b20220205 Requires-Python >=3.7, <3.10; 0.3.2b20220206 Requires-Python >=3.7, <3.10; 0.3.2b20220207 Requires-Python >=3.7, <3.10; 0.3.2b20220208 Requires-Python >=3.7, <3.10; 0.3.2b20220209 Requires-Python >=3.7, <3.10; 0.3.2b20220210 Requires-Python >=3.7, <3.10; 0.3.2b20220211 Requires-Python >=3.7, <3.10; 0.3.2b20220212 Requires-Python >=3.7, <3.10; 0.3.2b20220213 Requires-Python >=3.7, <3.10; 0.3.2b20220214 Requires-Python >=3.7, <3.10; 0.3.2b20220215 Requires-Python >=3.7, <3.10; 0.3.2b20220216 Requires-Python >=3.7, <3.10; 0.3.2b20220217 Requires-Python >=3.7, <3.10; 0.3.2b20220218 Requires-Python >=3.7, <3.10; 0.3.2b20220219 Requires-Python >=3.7, <3.10; 0.3.2b20220220 Requires-Python >=3.7, <3.10; 0.3.2b20220221 Requires-Python >=3.7, <3.10; 0.3.2b20220222 Requires-Python >=3.7, <3.10; 0.3.2b20220223 Requires-Python >=3.7, <3.10; 0.3.2b20220224 Requires-Python >=3.7, <3.10; 0.3.2b20220225 Requires-Python >=3.7, <3.10; 0.3.2b20220226 Requires-Python >=3.7, <3.10; 0.3.2b20220227 Requires-Python >=3.7, <3.10; 0.3.2b20220228 Requires-Python >=3.7, <3.10; 0.3.2b20220301 Requires-Python >=3.7, <3.10; 0.3.2b20220302 Requires-Python >=3.7, <3.10; 0.3.2b20220303 Requires-Python >=3.7, <3.10; 0.3.2b20220304 Requires-Python >=3.7, <3.10; 0.3.2b20220305 Requires-Python >=3.7, <3.10; 0.3.2b20220306 Requires-Python >=3.7, <3.10; 0.3.2b20220307 Requires-Python >=3.7, <3.10; 0.3.2b20220308 Requires-Python >=3.7, <3.10; 0.3.2b20220309 Requires-Python >=3.7, <3.10; 0.4.0 Requires-Python >=3.7, <3.10; 0.4.1 Requires-Python >=3.7, <3.10; 0.4.1b20220310 Requires-Python >=3.7, <3.10; 0.4.1b20220311 Requires-Python >=3.7, <3.10; 0.4.1b20220312 Requires-Python >=3.7, <3.10; 0.4.1b20220313 Requires-Python >=3.7, <3.10; 0.4.1b20220314 Requires-Python >=3.7, <3.10; 0.4.1b20220315 Requires-Python >=3.7, <3.10; 0.4.1b20220316 Requires-Python >=3.7, <3.10; 0.4.1b20220317 Requires-Python >=3.7, <3.10; 0.4.1b20220318 Requires-Python >=3.7, <3.10; 0.4.1b20220319 Requires-Python >=3.7, <3.10; 0.4.1b20220320 Requires-Python >=3.7, <3.10; 0.4.1b20220321 Requires-Python >=3.7, <3.10; 0.4.1b20220322 Requires-Python >=3.7, <3.10; 0.4.1b20220323 Requires-Python >=3.7, <3.10; 0.4.1b20220324 Requires-Python >=3.7, <3.10; 0.4.1b20220325 Requires-Python >=3.7, <3.10; 0.4.1b20220326 Requires-Python >=3.7, <3.10; 0.4.1b20220327 Requires-Python >=3.7, <3.10; 0.4.1b20220328 Requires-Python >=3.7, <3.10; 0.4.1b20220329 Requires-Python >=3.7, <3.10; 0.4.1b20220330 Requires-Python >=3.7, <3.10; 0.4.1b20220331 Requires-Python >=3.7, <3.10; 0.4.1b20220401 Requires-Python >=3.7, <3.10; 0.4.1b20220402 Requires-Python >=3.7, <3.10; 0.4.1b20220403 Requires-Python >=3.7, <3.10; 0.4.1b20220404 Requires-Python >=3.7, <3.10; 0.4.1b20220405 Requires-Python >=3.7, <3.10; 0.4.1b20220406 Requires-Python >=3.7, <3.10; 0.4.1b20220407 Requires-Python >=3.7, <3.10; 0.4.1b20220408 Requires-Python >=3.7, <3.10; 0.4.1b20220409 Requires-Python >=3.7, <3.10; 0.4.1b20220410 Requires-Python >=3.7, <3.10; 0.4.1b20220411 Requires-Python >=3.7, <3.10; 0.4.1b20220412 Requires-Python >=3.7, <3.10; 0.4.1b20220413 Requires-Python >=3.7, <3.10; 0.4.1b20220414 Requires-Python >=3.7, <3.10; 0.4.1b20220415 Requires-Python >=3.7, <3.10; 0.4.1b20220416 Requires-Python >=3.7, <3.10; 0.4.1b20220417 Requires-Python >=3.7, <3.10; 0.4.1b20220418 Requires-Python >=3.7, <3.10; 0.4.1b20220419 Requires-Python >=3.7, <3.10; 0.4.1b20220420 Requires-Python >=3.7, <3.10; 0.4.1b20220421 Requires-Python >=3.7, <3.10; 0.4.1b20220422 Requires-Python >=3.7, <3.10; 0.4.1b20220423 Requires-Python >=3.7, <3.10; 0.4.1b20220424 Requires-Python >=3.7, <3.10; 0.4.1b20220425 Requires-Python >=3.7, <3.10; 0.4.1b20220426 Requires-Python >=3.7, <3.10; 0.4.1b20220427 Requires-Python >=3.7, <3.10; 0.4.1b20220428 Requires-Python >=3.7, <3.10; 0.4.1b20220429 Requires-Python >=3.7, <3.10; 0.4.1b20220430 Requires-Python >=3.7, <3.10; 0.4.1b20220501 Requires-Python >=3.7, <3.10; 0.4.1b20220502 Requires-Python >=3.7, <3.10; 0.4.1b20220503 Requires-Python >=3.7, <3.10; 0.4.1b20220504 Requires-Python >=3.7, <3.10; 0.4.1b20220505 Requires-Python >=3.7, <3.10; 0.4.1b20220506 Requires-Python >=3.7, <3.10; 0.4.1b20220507 Requires-Python >=3.7, <3.10; 0.4.1b20220508 Requires-Python >=3.7, <3.10; 0.4.1b20220509 Requires-Python >=3.7, <3.10; 0.4.1b20220510 Requires-Python >=3.7, <3.10; 0.4.1b20220511 Requires-Python >=3.7, <3.10; 0.4.1b20220512 Requires-Python >=3.7, <3.10; 0.4.1b20220513 Requires-Python >=3.7, <3.10; 0.4.1b20220514 Requires-Python >=3.7, <3.10; 0.4.1b20220515 Requires-Python >=3.7, <3.10; 0.4.1b20220516 Requires-Python >=3.7, <3.10; 0.4.1b20220517 Requires-Python >=3.7, <3.10; 0.4.1b20220518 Requires-Python >=3.7, <3.10; 0.4.1b20220519 Requires-Python >=3.7, <3.10; 0.4.1b20220520 Requires-Python >=3.7, <3.10; 0.4.2 Requires-Python >=3.7, <3.10; 0.4.2b20220521 Requires-Python >=3.7, <3.10; 0.4.2b20220522 Requires-Python >=3.7, <3.10; 0.4.2b20220523 Requires-Python >=3.7, <3.10; 0.4.2b20220524 Requires-Python >=3.7, <3.10; 0.4.2b20220525 Requires-Python >=3.7, <3.10; 0.4.2b20220526 Requires-Python >=3.7, <3.10; 0.4.2b20220527 Requires-Python >=3.7, <3.10; 0.4.2b20220528 Requires-Python >=3.7, <3.10; 0.4.2b20220529 Requires-Python >=3.7, <3.10; 0.4.2b20220530 Requires-Python >=3.7, <3.10; 0.4.2b20220531 Requires-Python >=3.7, <3.10; 0.4.3 Requires-Python >=3.7, <3.10; 0.4.3b20220601 Requires-Python >=3.7, <3.10; 0.4.3b20220602 Requires-Python >=3.7, <3.10; 0.4.3b20220603 Requires-Python >=3.7, <3.10; 0.4.3b20220604 Requires-Python >=3.7, <3.10; 0.4.3b20220605 Requires-Python >=3.7, <3.10; 0.4.3b20220606 Requires-Python >=3.7, <3.10; 0.4.3b20220607 Requires-Python >=3.7, <3.10; 0.4.3b20220608 Requires-Python >=3.7, <3.10; 0.4.3b20220609 Requires-Python >=3.7, <3.10; 0.4.3b20220610 Requires-Python >=3.7, <3.10; 0.4.3b20220611 Requires-Python >=3.7, <3.10; 0.4.3b20220612 Requires-Python >=3.7, <3.10; 0.4.3b20220613 Requires-Python >=3.7, <3.10; 0.4.3b20220614 Requires-Python >=3.7, <3.10; 0.4.3b20220615 Requires-Python >=3.7, <3.10; 0.4.3b20220616 Requires-Python >=3.7, <3.10; 0.4.3b20220617 Requires-Python >=3.7, <3.10; 0.4.3b20220618 Requires-Python >=3.7, <3.10; 0.4.3b20220619 Requires-Python >=3.7, <3.10; 0.4.3b20220620 Requires-Python >=3.7, <3.10; 0.4.3b20220621 Requires-Python >=3.7, <3.10; 0.4.3b20220622 Requires-Python >=3.7, <3.10; 0.5.0 Requires-Python >=3.7, <3.10; 0.5.0b20220623 Requires-Python >=3.7, <3.10; 0.5.0rc1 Requires-Python >=3.7, <3.10; 0.5.1 Requires-Python >=3.7, <3.10; 0.5.1b20220624 Requires-Python >=3.7, <3.10; 0.5.1b20220625 Requires-Python >=3.7, <3.10; 0.5.1b20220626 Requires-Python >=3.7, <3.10; 0.5.1b20220627 Requires-Python >=3.7, <3.10; 0.5.1b20220628 Requires-Python >=3.7, <3.10; 0.5.1b20220629 Requires-Python >=3.7, <3.10; 0.5.1b20220630 Requires-Python >=3.7, <3.10; 0.5.1b20220701 Requires-Python >=3.7, <3.10; 0.5.1b20220702 Requires-Python >=3.7, <3.10; 0.5.1b20220703 Requires-Python >=3.7, <3.10; 0.5.1b20220704 Requires-Python >=3.7, <3.10; 0.5.1b20220705 Requires-Python >=3.7, <3.10; 0.5.1b20220706 Requires-Python >=3.7, <3.10; 0.5.1b20220707 Requires-Python >=3.7, <3.10; 0.5.1b20220708 Requires-Python >=3.7, <3.10; 0.5.1b20220709 Requires-Python >=3.7, <3.10; 0.5.1b20220710 Requires-Python >=3.7, <3.10; 0.5.1b20220711 Requires-Python >=3.7, <3.10; 0.5.1b20220712 Requires-Python >=3.7, <3.10; 0.5.1b20220713 Requires-Python >=3.7, <3.10; 0.5.1b20220714 Requires-Python >=3.7, <3.10; 0.5.1b20220715 Requires-Python >=3.7, <3.10; 0.5.1b20220716 Requires-Python >=3.7, <3.10; 0.5.1b20220717 Requires-Python >=3.7, <3.10; 0.5.1b20220718 Requires-Python >=3.7, <3.10; 0.5.2 Requires-Python >=3.7, <3.10; 0.5.2b20220719 Requires-Python >=3.7, <3.10; 0.5.2b20220720 Requires-Python >=3.7, <3.10; 0.5.2b20220721 Requires-Python >=3.7, <3.10; 0.5.2b20220722 Requires-Python >=3.7, <3.10; 0.5.2b20220723 Requires-Python >=3.7, <3.10; 0.5.2b20220724 Requires-Python >=3.7, <3.10; 0.5.2b20220725 Requires-Python >=3.7, <3.10; 0.5.2b20220726 Requires-Python >=3.7, <3.10; 0.5.2b20220727 Requires-Python >=3.7, <3.10; 0.5.2b20220728 Requires-Python >=3.7, <3.10; 0.5.3 Requires-Python >=3.7, <3.10; 0.5.3b20220729 Requires-Python >=3.7, <3.10; 0.5.3b20220730 Requires-Python >=3.7, <3.10; 0.5.3b20220731 Requires-Python >=3.7, <3.10; 0.5.3b20220801 Requires-Python >=3.7, <3.10; 0.5.3b20220802 Requires-Python >=3.7, <3.10; 0.5.3b20220803 Requires-Python >=3.7, <3.10; 0.5.3b20220804 Requires-Python >=3.7, <3.10; 0.5.3b20220805 Requires-Python >=3.7, <3.10; 0.5.3b20220806 Requires-Python >=3.7, <3.10; 0.5.3b20220807 Requires-Python >=3.7, <3.10; 0.5.3b20220808 Requires-Python >=3.7, <3.10; 0.5.3b20220809 Requires-Python >=3.7, <3.10; 0.5.3b20220810 Requires-Python >=3.7, <3.10; 0.5.3b20220811 Requires-Python >=3.7, <3.10; 0.5.3b20220812 Requires-Python >=3.7, <3.10; 0.5.3b20220813 Requires-Python >=3.7, <3.10; 0.5.3b20220814 Requires-Python >=3.7, <3.10; 0.5.3b20220815 Requires-Python >=3.7, <3.10; 0.5.3b20220816 Requires-Python >=3.7, <3.10; 0.5.3b20220817 Requires-Python >=3.7, <3.10; 0.5.3b20220818 Requires-Python >=3.7, <3.10; 0.5.3b20220819 Requires-Python >=3.7, <3.10; 0.5.3b20220820 Requires-Python >=3.7, <3.10; 0.5.3b20220821 Requires-Python >=3.7, <3.10; 0.5.3b20220822 Requires-Python >=3.7, <3.10; 0.5.3b20220823 Requires-Python >=3.7, <3.10; 0.5.3b20220824 Requires-Python >=3.7, <3.10; 0.5.3b20220825 Requires-Python >=3.7, <3.10; 0.5.3b20220826 Requires-Python >=3.7, <3.10; 0.5.3b20220827 Requires-Python >=3.7, <3.10; 0.5.3b20220828 Requires-Python >=3.7, <3.10; 0.5.3b20220829 Requires-Python >=3.7, <3.10; 0.5.3b20220830 Requires-Python >=3.7, <3.10; 0.5.3b20220831 Requires-Python >=3.7, <3.10; 0.5.3b20220901 Requires-Python >=3.7, <3.10; 0.5.3b20220902 Requires-Python >=3.7, <3.10; 0.5.3b20220903 Requires-Python >=3.7, <3.10; 0.5.3b20220904 Requires-Python >=3.7, <3.10; 0.5.3b20220905 Requires-Python >=3.7, <3.10; 0.5.3b20220906 Requires-Python >=3.7, <3.10; 0.5.3b20220907 Requires-Python >=3.7, <3.10; 0.5.3b20220908 Requires-Python >=3.7, <3.10; 0.5.3b20220909 Requires-Python >=3.7, <3.10; 0.5.3b20220910 Requires-Python >=3.7, <3.10; 0.5.3b20220911 Requires-Python >=3.7, <3.10; 0.5.3b20220912 Requires-Python >=3.7, <3.10; 0.5.3b20220913 Requires-Python >=3.7, <3.10; 0.5.3b20220914 Requires-Python >=3.7, <3.10; 0.5.3b20220915 Requires-Python >=3.7, <3.10; 0.5.3b20220916 Requires-Python >=3.7, <3.10; 0.5.3b20220917 Requires-Python >=3.7, <3.10; 0.5.3b20220918 Requires-Python >=3.7, <3.10; 0.5.3b20220919 Requires-Python >=3.7, <3.10; 0.5.3b20220920 Requires-Python >=3.7, <3.10; 0.5.3b20220921 Requires-Python >=3.7, <3.10; 0.5.3b20220922 Requires-Python >=3.7, <3.10; 0.5.3b20220923 Requires-Python >=3.7, <3.10; 0.5.3b20220924 Requires-Python >=3.7, <3.10; 0.5.3b20220925 Requires-Python >=3.7, <3.10; 0.5.3b20220926 Requires-Python >=3.7, <3.10; 0.5.3b20220927 Requires-Python >=3.7, <3.10; 0.5.3b20220928 Requires-Python >=3.7, <3.10; 0.5.3b20220929 Requires-Python >=3.7, <3.10; 0.5.3b20220930 Requires-Python >=3.7, <3.10; 0.5.3b20221001 Requires-Python >=3.7, <3.10; 0.5.3b20221002 Requires-Python >=3.7, <3.10; 0.5.3b20221003 Requires-Python >=3.7, <3.10; 0.5.3b20221004 Requires-Python >=3.7, <3.10; 0.5.3b20221005 Requires-Python >=3.7, <3.10; 0.5.3b20221006 Requires-Python >=3.7, <3.10; 0.5.3b20221007 Requires-Python >=3.7, <3.10; 0.5.3b20221008 Requires-Python >=3.7, <3.10; 0.5.3b20221009 Requires-Python >=3.7, <3.10; 0.5.3b20221010 Requires-Python >=3.7, <3.10; 0.5.3b20221011 Requires-Python >=3.7, <3.10; 0.5.3b20221012 Requires-Python >=3.7, <3.10; 0.5.3b20221013 Requires-Python >=3.7, <3.10; 0.5.3b20221014 Requires-Python >=3.7, <3.10; 0.5.3b20221015 Requires-Python >=3.7, <3.10; 0.5.3b20221016 Requires-Python >=3.7, <3.10; 0.5.3b20221017 Requires-Python >=3.7, <3.10; 0.5.3b20221018 Requires-Python >=3.7, <3.10; 0.5.3b20221019 Requires-Python >=3.7, <3.10; 0.5.3b20221020 Requires-Python >=3.7, <3.10; 0.5.3b20221021 Requires-Python >=3.7, <3.10; 0.5.3b20221022 Requires-Python >=3.7, <3.10; 0.5.3b20221023 Requires-Python >=3.7, <3.10; 0.5.3b20221024 Requires-Python >=3.7, <3.10; 0.5.3b20221025 Requires-Python >=3.7, <3.10; 0.5.3b20221026 Requires-Python >=3.7, <3.10; 0.5.3b20221027 Requires-Python >=3.7, <3.10; 0.5.3b20221028 Requires-Python >=3.7, <3.10; 0.5.3b20221029 Requires-Python >=3.7, <3.10; 0.5.3b20221030 Requires-Python >=3.7, <3.10; 0.5.3b20221031 Requires-Python >=3.7, <3.10; 0.5.3b20221101 Requires-Python >=3.7, <3.10; 0.5.3b20221102 Requires-Python >=3.7, <3.10; 0.5.3b20221103 Requires-Python >=3.7, <3.10; 0.5.3b20221112 Requires-Python >=3.7, <3.10; 0.5.3b20221113 Requires-Python >=3.7, <3.10; 0.5.3b20221114 Requires-Python >=3.7, <3.10; 0.5.3b20221115 Requires-Python >=3.7, <3.10; 0.5.3b20221116 Requires-Python >=3.7, <3.10; 0.6.0 Requires-Python >=3.7, <3.10; 0.6.1 Requires-Python >=3.7, <3.10; 0.6.1b20221117 Requires-Python >=3.7, <3.10; 0.6.1b20221118 Requires-Python >=3.7, <3.10; 0.6.1b20221119 Requires-Python >=3.7, <3.10; 0.6.1b20221120 Requires-Python >=3.7, <3.10; 0.6.1b20221121 Requires-Python >=3.7, <3.10; 0.6.1b20221122 Requires-Python >=3.7, <3.10; 0.6.1b20221123 Requires-Python >=3.7, <3.10; 0.6.1b20221124 Requires-Python >=3.7, <3.10; 0.6.1b20221125 Requires-Python >=3.7, <3.10; 0.6.1b20221126 Requires-Python >=3.7, <3.10; 0.6.1b20221127 Requires-Python >=3.7, <3.10; 0.6.1b20221128 Requires-Python >=3.7, <3.10; 0.6.1b20221129 Requires-Python >=3.7, <3.10; 0.6.1b20221130 Requires-Python >=3.7, <3.10; 0.6.1b20221201 Requires-Python >=3.7, <3.10; 0.6.1b20221202 Requires-Python >=3.7, <3.10; 0.6.1b20221203 Requires-Python >=3.7, <3.10; 0.6.1b20221204 Requires-Python >=3.7, <3.10; 0.6.1b20221205 Requires-Python >=3.7, <3.10; 0.6.1b20221206 Requires-Python >=3.7, <3.10; 0.6.1b20221207 Requires-Python >=3.7, <3.10; 0.6.1b20221208 Requires-Python >=3.7, <3.10; 0.6.1b20221209 Requires-Python >=3.7, <3.10; 0.6.1b20221210 Requires-Python >=3.7, <3.10; 0.6.1b20221211 Requires-Python >=3.7, <3.10; 0.6.1b20221212 Requires-Python >=3.7, <3.10; 0.6.2 Requires-Python >=3.7, <3.10; 0.6.2b20221213 Requires-Python >=3.7, <3.10; 0.6.2b20221214 Requires-Python >=3.7, <3.10; 0.6.2b20221215 Requires-Python >=3.7, <3.10; 0.6.2b20221216 Requires-Python >=3.7, <3.10; 0.6.2b20221217 Requires-Python >=3.7, <3.10; 0.6.2b20221218 Requires-Python >=3.7, <3.10; 0.6.2b20221219 Requires-Python >=3.7, <3.10; 0.6.2b20221220 Requires-Python >=3.7, <3.10; 0.6.2b20221221 Requires-Python >=3.7, <3.10; 0.6.2b20221222 Requires-Python >=3.7, <3.10; 0.6.2b20221223 Requires-Python >=3.7, <3.10; 0.6.2b20221224 Requires-Python >=3.7, <3.10; 0.6.2b20221225 Requires-Python >=3.7, <3.10; 0.6.2b20221226 Requires-Python >=3.7, <3.10; 0.6.2b20221227 Requires-Python >=3.7, <3.10; 0.6.2b20221228 Requires-Python >=3.7, <3.10; 0.6.2b20221229 Requires-Python >=3.7, <3.10; 0.6.2b20221230 Requires-Python >=3.7, <3.10; 0.6.2b20221231 Requires-Python >=3.7, <3.10; 0.6.2b20230101 Requires-Python >=3.7, <3.10; 0.6.2b20230102 Requires-Python >=3.7, <3.10; 0.6.2b20230103 Requires-Python >=3.7, <3.10; 0.6.2b20230104 Requires-Python >=3.7, <3.10; 0.6.2b20230105 Requires-Python >=3.7, <3.10; 0.6.2b20230106 Requires-Python >=3.7, <3.10; 0.6.2b20230107 Requires-Python >=3.7, <3.10; 0.6.2b20230108 Requires-Python >=3.7, <3.10; 0.6.2b20230109 Requires-Python >=3.7, <3.10; 0.6.2b20230110 Requires-Python >=3.7, <3.10; 0.6.2b20230111 Requires-Python >=3.7, <3.10; 0.6.3b20230112 Requires-Python >=3.7, <3.10; 0.6.3b20230113 Requires-Python >=3.7, <3.10; 0.6.3b20230114 Requires-Python >=3.7, <3.10; 0.6.3b20230115 Requires-Python >=3.7, <3.10; 0.6.3b20230116 Requires-Python >=3.7, <3.10\u001b[0m\u001b[31m\r\n",
      "\u001b[0m\u001b[31mERROR: Could not find a version that satisfies the requirement autogluon==0.6.1 (from versions: 0.0.6b4042020, 0.0.7b1052020, 0.0.7b2052020, 0.0.7b3052020, 0.0.7b4042020, 0.0.7b4052020, 0.0.7b5052020, 0.0.7b6042020, 0.0.7b6052020, 0.0.7b7042020, 0.0.7b7052020, 0.0.7b8052020, 0.0.7b9052020, 0.0.7b10052020, 0.0.7b11052020, 0.0.7b12042020, 0.0.7b14042020, 0.0.7b15042020, 0.0.7b16042020, 0.0.7b17042020, 0.0.7b18042020, 0.0.7b19042020, 0.0.7b20042020, 0.0.7b21042020, 0.0.7b22042020, 0.0.7b23042020, 0.0.7b24042020, 0.0.7b25042020, 0.0.7b26042020, 0.0.7b27042020, 0.0.7b28042020, 0.0.7b29042020, 0.0.7b30042020, 0.0.8b20200512, 0.0.9b20200513, 0.0.10b20200514, 0.0.10b20200515, 0.0.10b20200516, 0.0.10b20200517, 0.0.10b20200518, 0.0.10b20200519, 0.0.10b20200520, 0.0.10b20200521, 0.0.10b20200522, 0.0.10b20200523, 0.0.10b20200524, 0.0.10b20200525, 0.0.10b20200526, 0.0.10b20200527, 0.0.10b20200528, 0.0.10b20200529, 0.0.10b20200530, 0.0.10b20200531, 0.0.10b20200601, 0.0.10b20200602, 0.0.10b20200603, 0.0.11b20200604, 0.0.11b20200605, 0.0.11b20200606, 0.0.11b20200607, 0.0.11b20200608, 0.0.11b20200609, 0.0.11b20200610, 0.0.11b20200611, 0.0.11b20200612, 0.0.11b20200613, 0.0.11b20200614, 0.0.12b20200615, 0.0.12b20200616, 0.0.12b20200617, 0.0.12b20200618, 0.0.12b20200619, 0.0.12b20200620, 0.0.12b20200621, 0.0.12b20200622, 0.0.12b20200623, 0.0.12b20200624, 0.0.12b20200625, 0.0.12b20200626, 0.0.12b20200627, 0.0.12b20200628, 0.0.12b20200629, 0.0.12b20200630, 0.0.12b20200701, 0.0.12b20200702, 0.0.12b20200703, 0.0.12b20200704, 0.0.12b20200705, 0.0.12b20200706, 0.0.12b20200707, 0.0.12b20200708, 0.0.12b20200709, 0.0.12b20200710, 0.0.12b20200711, 0.0.12b20200712, 0.0.12b20200713, 0.0.13b20200714, 0.0.13b20200715, 0.0.13b20200716, 0.0.13b20200717, 0.0.13b20200718, 0.0.13b20200719, 0.0.13b20200720, 0.0.13b20200721, 0.0.13b20200722, 0.0.13b20200723, 0.0.13b20200724, 0.0.13b20200725, 0.0.13b20200726, 0.0.13b20200727, 0.0.13b20200728, 0.0.13b20200729, 0.0.13b20200730, 0.0.13b20200731, 0.0.13b20200801, 0.0.13b20200802, 0.0.13b20200803, 0.0.13b20200804, 0.0.13b20200805, 0.0.13b20200806, 0.0.13b20200807, 0.0.13b20200808, 0.0.13b20200809, 0.0.13b20200810, 0.0.13b20200811, 0.0.13b20200812, 0.0.13b20200813, 0.0.13b20200814, 0.0.13b20200815, 0.0.13b20200816, 0.0.13b20200817, 0.0.13b20200818, 0.0.13b20200819, 0.0.13b20200820, 0.0.13b20200821, 0.0.13b20200822, 0.0.13b20200823, 0.0.13b20200824, 0.0.14b20200825, 0.0.14b20200826, 0.0.14b20200827, 0.0.14b20200828, 0.0.14b20200829, 0.0.14b20200830, 0.0.14b20200831, 0.0.14b20200901, 0.0.14b20200902, 0.0.14b20200903, 0.0.14b20200904, 0.0.14b20200905, 0.0.14b20200906, 0.0.14b20200907, 0.0.14b20200908, 0.0.14b20200909, 0.0.14b20200910, 0.0.14b20200911, 0.0.14b20200912, 0.0.14b20200913, 0.0.14b20200914, 0.0.14b20200915, 0.0.14b20200916, 0.0.14b20200917, 0.0.14b20200918, 0.0.14b20200919, 0.0.14b20200920, 0.0.14b20200921, 0.0.14b20200922, 0.0.14b20200923, 0.0.14b20200924, 0.0.14b20200925, 0.0.14b20200926, 0.0.14b20200927, 0.0.14b20200928, 0.0.14b20200929, 0.0.14b20200930, 0.0.14b20201001, 0.0.14b20201002, 0.0.15b20201003, 0.0.15b20201004, 0.0.15b20201005, 0.0.15b20201006, 0.0.15b20201007, 0.0.15b20201008, 0.0.15b20201009, 0.0.15b20201010, 0.0.15b20201011, 0.0.15b20201012, 0.0.15b20201013, 0.0.15b20201014, 0.0.15b20201015, 0.0.15b20201016, 0.0.15b20201017, 0.0.15b20201018, 0.0.15b20201019, 0.0.15b20201020, 0.0.15b20201021, 0.0.15b20201022, 0.0.15b20201023, 0.0.15b20201024, 0.0.15b20201025, 0.0.15b20201026, 0.0.15b20201027, 0.0.15b20201028, 0.0.15b20201029, 0.0.15b20201030, 0.0.15b20201031, 0.0.15b20201101, 0.0.15b20201102, 0.0.15b20201103, 0.0.15b20201104, 0.0.15b20201105, 0.0.15b20201106, 0.0.15b20201107, 0.0.15b20201108, 0.0.15b20201109, 0.0.15b20201110, 0.0.15b20201111, 0.0.15b20201112, 0.0.15b20201113, 0.0.15b20201114, 0.0.15b20201115, 0.0.15b20201116, 0.0.15b20201117, 0.0.15b20201118, 0.0.15b20201119, 0.0.15b20201120, 0.0.15b20201121, 0.0.15b20201122, 0.0.15b20201123, 0.0.15b20201124, 0.0.15b20201125, 0.0.15b20201126, 0.0.15b20201127, 0.0.15b20201128, 0.0.15b20201129, 0.0.15b20201130, 0.0.15b20201201, 0.0.15b20201202, 0.0.15b20201203, 0.0.15b20201204, 0.0.15b20201205, 0.0.15b20201206, 0.0.15b20201207, 0.0.16b20201208, 0.0.16b20201209, 0.0.16b20201210, 0.0.16b20201211, 0.0.16b20201212, 0.0.16b20201213, 0.0.16b20201214, 0.0.16b20201215, 0.0.16b20201216, 0.0.16b20201217, 0.0.16b20201218, 0.0.16b20201219, 0.0.16b20201220, 0.0.16b20201221, 0.0.16b20201222, 0.0.16b20201223, 0.0.16b20201224, 0.0.16b20201225, 0.0.16b20201226, 0.0.16b20201227, 0.0.16b20201228, 0.0.16b20201229, 0.0.16b20201230, 0.0.16b20201231, 0.0.16b20210101, 0.0.16b20210102, 0.0.16b20210103, 0.0.16b20210104, 0.0.16b20210105, 0.0.16b20210106, 0.0.16b20210107, 0.0.16b20210108, 0.0.16b20210109, 0.0.16b20210110, 0.0.16b20210111, 0.0.16b20210112, 0.0.16b20210113, 0.0.16b20210114, 0.0.16b20210115, 0.0.16b20210116, 0.0.16b20210117, 0.0.16b20210118, 0.0.16b20210119, 0.0.16b20210120, 0.0.16b20210121, 0.0.16b20210122, 0.0.16b20210123, 0.0.16b20210124, 0.0.16b20210125, 0.0.16b20210126, 0.0.16b20210127, 0.0.16b20210128, 0.0.16b20210129, 0.0.16b20210130, 0.0.16b20210131, 0.0.16b20210201, 0.0.16b20210202, 0.0.16b20210203, 0.0.16b20210204, 0.0.16b20210205, 0.0.16b20210206, 0.6.3b20230117, 0.6.3b20230118, 0.6.3b20230119, 0.6.3b20230120, 0.6.3b20230121, 0.6.3b20230122, 0.6.3b20230123, 0.6.3b20230124, 0.6.3b20230125, 0.6.3b20230126, 0.6.3b20230127, 0.6.3b20230128, 0.6.3b20230129, 0.6.3b20230130, 0.6.3b20230131, 0.6.3b20230201, 0.6.3b20230202, 0.6.3b20230203, 0.6.3b20230204, 0.6.3b20230205, 0.6.3b20230206, 0.6.3b20230207, 0.6.3b20230208, 0.6.3b20230209, 0.6.3b20230210, 0.6.3b20230211, 0.6.3b20230212, 0.6.3b20230213, 0.6.3b20230214, 0.6.3b20230215, 0.7.0b20230216, 0.7.0b20230217, 0.7.0b20230218, 0.7.0b20230219, 0.7.0b20230220, 0.7.0b20230221, 0.7.0b20230222, 0.7.0b20230223, 0.7.0b20230224, 0.7.0b20230225, 0.7.0b20230226, 0.7.0b20230227, 0.7.0b20230228, 0.7.0b20230301, 0.7.0b20230302, 0.7.0b20230303, 0.7.0b20230304, 0.7.0b20230305, 0.7.0b20230306, 0.7.0b20230307, 0.7.0b20230308, 0.7.0b20230309, 0.7.0b20230310, 0.7.0b20230311, 0.7.0b20230312, 0.7.0b20230313, 0.7.0b20230314, 0.7.0b20230315, 0.7.0b20230316, 0.7.0b20230317, 0.7.0b20230318, 0.7.0b20230319, 0.7.0b20230320, 0.7.0b20230321, 0.7.0b20230322, 0.7.0b20230323, 0.7.0b20230324, 0.7.0b20230325, 0.7.0b20230326, 0.7.0b20230327, 0.7.0b20230329, 0.7.0b20230330, 0.7.0b20230331, 0.7.0b20230401, 0.7.0b20230402, 0.7.0b20230403, 0.7.0b20230404, 0.7.0b20230405, 0.7.0b20230406, 0.7.0b20230407, 0.7.0b20230408, 0.7.0b20230409, 0.7.0b20230410, 0.7.0b20230411, 0.7.0b20230412, 0.7.0b20230413, 0.7.0b20230414, 0.7.0b20230415, 0.7.0b20230416, 0.7.0b20230417, 0.7.0b20230418, 0.7.0b20230419, 0.7.0b20230420, 0.7.0b20230421, 0.7.0b20230422, 0.7.0b20230423, 0.7.0b20230424, 0.7.0, 0.7.1b20230425, 0.7.1b20230426, 0.7.1b20230427, 0.7.1b20230428, 0.7.1b20230429, 0.7.1b20230430, 0.7.1b20230501, 0.7.1b20230502, 0.7.1b20230503, 0.7.1b20230504, 0.7.1b20230505, 0.7.1b20230506, 0.7.1b20230507, 0.7.1b20230508, 0.7.1b20230509, 0.7.1b20230510, 0.7.1b20230511, 0.7.1b20230513, 0.7.1b20230514, 0.7.1b20230515, 0.7.1b20230516, 0.7.1b20230517, 0.7.1b20230518, 0.7.1b20230519, 0.7.1b20230520, 0.7.1b20230521, 0.7.1b20230522, 0.7.1b20230523, 0.7.1b20230524, 0.7.1b20230525, 0.7.1b20230526, 0.7.1b20230527, 0.7.1b20230528, 0.7.1b20230529, 0.7.1b20230530, 0.7.1b20230531, 0.7.1b20230601, 0.7.1b20230602, 0.7.1b20230603, 0.7.1b20230604, 0.7.1b20230605, 0.7.1b20230606, 0.7.1b20230608, 0.7.1b20230609, 0.7.1b20230610, 0.7.1b20230611, 0.7.1b20230612, 0.7.1b20230613, 0.7.1b20230614, 0.8.0b20230615, 0.8.0b20230616, 0.8.0, 0.8.1b20230617, 0.8.1b20230618, 0.8.1b20230619, 0.8.1b20230620, 0.8.1b20230621, 0.8.1b20230622, 0.8.1b20230623, 0.8.1b20230624, 0.8.1b20230625, 0.8.1b20230626, 0.8.1b20230627, 0.8.1b20230628, 0.8.1b20230629, 0.8.1b20230630, 0.8.1, 0.8.2b20230701, 0.8.2b20230702, 0.8.2b20230703, 0.8.2b20230704, 0.8.2b20230705, 0.8.2b20230706, 0.8.2, 0.8.3b20230707, 0.8.3b20230708, 0.8.3b20230709, 0.8.3b20230710, 0.8.3b20230711, 0.8.3b20230712, 0.8.3b20230713, 0.8.3b20230714, 0.8.3b20230715, 0.8.3b20230716, 0.8.3b20230717, 0.8.3b20230718, 0.8.3b20230719, 0.8.3b20230720, 0.8.3b20230721, 0.8.3b20230722, 0.8.3b20230723, 0.8.3b20230724, 0.8.3b20230725, 0.8.3b20230726, 0.8.3b20230727, 0.8.3b20230728, 0.8.3b20230729, 0.8.3b20230730, 0.8.3b20230731, 0.8.3b20230801, 0.8.3b20230802, 0.8.3b20230803, 0.8.3b20230804, 0.8.3b20230805, 0.8.3b20230806, 0.8.3b20230807, 0.8.3b20230808, 0.8.3b20230809, 0.8.3b20230810, 0.8.3b20230811, 0.8.3b20230812, 0.8.3b20230813, 0.8.3b20230814, 0.8.3b20230815, 0.8.3b20230816, 0.8.3b20230817, 0.8.3b20230818, 0.8.3b20230819, 0.8.3b20230820, 0.8.3b20230821, 0.8.3b20230822, 0.8.3b20230823, 0.8.3b20230824, 0.8.3b20230825, 0.8.3b20230826, 0.8.3b20230827, 0.8.3b20230828, 0.8.3b20230829, 0.8.3b20230830, 0.8.3b20230831, 0.8.3b20230901, 0.8.3b20230902, 0.8.3b20230903, 0.8.3b20230904, 0.8.3b20230905, 0.8.3b20230906, 0.8.3b20230907, 0.8.3b20230908, 0.8.3b20230909, 0.8.3b20230910, 0.8.3b20230911, 0.8.3b20230912, 0.8.3b20230913, 0.8.3b20230914, 0.8.3b20230915, 0.8.3b20230916, 0.8.3b20230917, 0.8.3b20230918, 0.8.3b20230919, 0.8.3b20230920, 0.8.3b20230921, 0.8.3b20230922, 0.8.3b20230923, 0.8.3b20230924, 0.8.3b20230925, 0.8.3b20230926, 0.8.3b20230927, 0.8.3b20230928, 0.8.3b20230929, 0.8.3b20230930, 0.8.3b20231001, 0.8.3b20231002, 0.8.3b20231003, 0.8.3b20231004, 0.8.3b20231005, 0.8.3b20231006, 0.8.3b20231007, 0.8.3b20231008, 0.8.3b20231009, 0.8.3b20231010, 0.8.3b20231011, 0.8.3b20231012, 0.8.3b20231013, 0.8.3b20231014, 0.8.3b20231015, 0.8.3b20231016, 0.8.3b20231017, 0.8.3b20231018, 0.8.3b20231019, 0.8.3b20231020, 0.8.3b20231021, 0.8.3b20231022, 0.8.3b20231023, 0.8.3b20231024, 0.8.3b20231025, 0.8.3b20231027, 0.8.3b20231028, 0.8.3b20231029, 0.8.3b20231030, 0.8.3b20231031, 0.8.3b20231101, 0.8.3b20231102, 0.8.3b20231103, 0.8.3b20231104, 0.8.3b20231105, 0.8.3b20231106, 0.8.3b20231107, 0.8.3b20231108, 0.8.3b20231109, 0.8.3b20231110, 0.8.3b20231111, 0.8.3b20231112, 0.8.3b20231113, 0.8.3b20231114, 0.8.3b20231115, 0.8.3b20231116, 1.0.0b20231117, 1.0.0b20231118, 1.0.0b20231119, 1.0.0b20231120, 1.0.0b20231121, 1.0.0b20231122, 1.0.0b20231123, 1.0.0b20231124, 1.0.0b20231125, 1.0.0b20231126, 1.0.0b20231127, 1.0.0b20231128, 1.0.0b20231129, 1.0.0, 1.0.1b20231130, 1.0.1b20231201, 1.0.1b20231202, 1.0.1b20231203, 1.0.1b20231204, 1.0.1b20231205, 1.0.1b20231206, 1.0.1b20231207, 1.0.1b20231208, 1.0.1b20231209, 1.0.1b20231210, 1.0.1b20231211, 1.0.1b20231212, 1.0.1b20231213, 1.0.1b20231214, 1.0.1b20231215, 1.0.1b20231216, 1.0.1b20231217, 1.0.1b20231218, 1.0.1b20231219, 1.0.1b20231220, 1.0.1b20231221, 1.0.1b20231222, 1.0.1b20231223, 1.0.1b20231224, 1.0.1b20231225, 1.0.1b20231226, 1.0.1b20231227, 1.0.1b20231228, 1.0.1b20231229, 1.0.1b20231230, 1.0.1b20231231, 1.0.1b20240101, 1.0.1b20240206, 1.0.1b20240207, 1.0.1b20240208, 1.0.1b20240209, 1.0.1b20240210, 1.0.1b20240211, 1.0.1b20240212, 1.0.1b20240213, 1.0.1b20240214, 1.0.1b20240215, 1.0.1b20240216, 1.0.1b20240217, 1.0.1b20240218, 1.0.1b20240219, 1.0.1b20240220, 1.0.1b20240221, 1.0.1b20240222, 1.0.1b20240223, 1.0.1b20240224, 1.0.1b20240225, 1.0.1b20240226)\u001b[0m\u001b[31m\r\n",
      "\u001b[0m\u001b[31mERROR: No matching distribution found for autogluon==0.6.1\u001b[0m\u001b[31m\r\n",
      "\u001b[0mNote: you may need to restart the kernel to use updated packages.\n"
     ]
    }
   ],
   "source": [
    "%pip install -q -r requirements.txt"
   ]
  },
  {
   "cell_type": "markdown",
   "metadata": {},
   "source": [
    "## 1. <a name=\"1\">Read the dataset</a>\n",
    "(<a href=\"#0\">Go to top</a>)\n",
    "\n",
    "Let's read the dataset into a dataframe, using Pandas."
   ]
  },
  {
   "cell_type": "code",
   "execution_count": 1,
   "metadata": {},
   "outputs": [
    {
     "name": "stderr",
     "output_type": "stream",
     "text": [
      "/home/ec2-user/anaconda3/envs/python3/lib/python3.10/site-packages/pandas/core/computation/expressions.py:21: UserWarning: Pandas requires version '2.8.0' or newer of 'numexpr' (version '2.7.3' currently installed).\n",
      "  from pandas.core.computation.check import NUMEXPR_INSTALLED\n"
     ]
    },
    {
     "name": "stdout",
     "output_type": "stream",
     "text": [
      "The shape of the dataset is: (95485, 13)\n"
     ]
    }
   ],
   "source": [
    "import pandas as pd\n",
    "\n",
    "import warnings\n",
    "warnings.filterwarnings(\"ignore\")\n",
    "  \n",
    "df = pd.read_csv('Data/review_dataset.csv')\n",
    "\n",
    "print('The shape of the dataset is:', df.shape)"
   ]
  },
  {
   "cell_type": "markdown",
   "metadata": {},
   "source": [
    "## 2. <a name=\"2\">Exploratory Data Analysis</a>\n",
    "(<a href=\"#0\">Go to top</a>)\n",
    "\n",
    "We will look at number of rows, columns and some simple statistics of the dataset."
   ]
  },
  {
   "cell_type": "code",
   "execution_count": 2,
   "metadata": {},
   "outputs": [
    {
     "data": {
      "text/html": [
       "<div>\n",
       "<style scoped>\n",
       "    .dataframe tbody tr th:only-of-type {\n",
       "        vertical-align: middle;\n",
       "    }\n",
       "\n",
       "    .dataframe tbody tr th {\n",
       "        vertical-align: top;\n",
       "    }\n",
       "\n",
       "    .dataframe thead th {\n",
       "        text-align: right;\n",
       "    }\n",
       "</style>\n",
       "<table border=\"1\" class=\"dataframe\">\n",
       "  <thead>\n",
       "    <tr style=\"text-align: right;\">\n",
       "      <th></th>\n",
       "      <th>Pet ID</th>\n",
       "      <th>Outcome Type</th>\n",
       "      <th>Sex upon Outcome</th>\n",
       "      <th>Name</th>\n",
       "      <th>Found Location</th>\n",
       "      <th>Intake Type</th>\n",
       "      <th>Intake Condition</th>\n",
       "      <th>Pet Type</th>\n",
       "      <th>Sex upon Intake</th>\n",
       "      <th>Breed</th>\n",
       "      <th>Color</th>\n",
       "      <th>Age upon Intake Days</th>\n",
       "      <th>Age upon Outcome Days</th>\n",
       "    </tr>\n",
       "  </thead>\n",
       "  <tbody>\n",
       "    <tr>\n",
       "      <th>0</th>\n",
       "      <td>A794011</td>\n",
       "      <td>1.0</td>\n",
       "      <td>Neutered Male</td>\n",
       "      <td>Chunk</td>\n",
       "      <td>Austin (TX)</td>\n",
       "      <td>Owner Surrender</td>\n",
       "      <td>Normal</td>\n",
       "      <td>Cat</td>\n",
       "      <td>Neutered Male</td>\n",
       "      <td>Domestic Shorthair Mix</td>\n",
       "      <td>Brown Tabby/White</td>\n",
       "      <td>730</td>\n",
       "      <td>730</td>\n",
       "    </tr>\n",
       "    <tr>\n",
       "      <th>1</th>\n",
       "      <td>A776359</td>\n",
       "      <td>1.0</td>\n",
       "      <td>Neutered Male</td>\n",
       "      <td>Gizmo</td>\n",
       "      <td>7201 Levander Loop in Austin (TX)</td>\n",
       "      <td>Stray</td>\n",
       "      <td>Normal</td>\n",
       "      <td>Dog</td>\n",
       "      <td>Intact Male</td>\n",
       "      <td>Chihuahua Shorthair Mix</td>\n",
       "      <td>White/Brown</td>\n",
       "      <td>365</td>\n",
       "      <td>365</td>\n",
       "    </tr>\n",
       "    <tr>\n",
       "      <th>2</th>\n",
       "      <td>A674754</td>\n",
       "      <td>0.0</td>\n",
       "      <td>Intact Male</td>\n",
       "      <td>NaN</td>\n",
       "      <td>12034 Research in Austin (TX)</td>\n",
       "      <td>Stray</td>\n",
       "      <td>Nursing</td>\n",
       "      <td>Cat</td>\n",
       "      <td>Intact Male</td>\n",
       "      <td>Domestic Shorthair Mix</td>\n",
       "      <td>Orange Tabby</td>\n",
       "      <td>6</td>\n",
       "      <td>6</td>\n",
       "    </tr>\n",
       "    <tr>\n",
       "      <th>3</th>\n",
       "      <td>A689724</td>\n",
       "      <td>1.0</td>\n",
       "      <td>Neutered Male</td>\n",
       "      <td>*Donatello</td>\n",
       "      <td>2300 Waterway Bnd in Austin (TX)</td>\n",
       "      <td>Stray</td>\n",
       "      <td>Normal</td>\n",
       "      <td>Cat</td>\n",
       "      <td>Intact Male</td>\n",
       "      <td>Domestic Shorthair Mix</td>\n",
       "      <td>Black</td>\n",
       "      <td>60</td>\n",
       "      <td>60</td>\n",
       "    </tr>\n",
       "    <tr>\n",
       "      <th>4</th>\n",
       "      <td>A680969</td>\n",
       "      <td>1.0</td>\n",
       "      <td>Neutered Male</td>\n",
       "      <td>*Zeus</td>\n",
       "      <td>4701 Staggerbrush Rd in Austin (TX)</td>\n",
       "      <td>Stray</td>\n",
       "      <td>Nursing</td>\n",
       "      <td>Cat</td>\n",
       "      <td>Intact Male</td>\n",
       "      <td>Domestic Shorthair Mix</td>\n",
       "      <td>White/Orange Tabby</td>\n",
       "      <td>7</td>\n",
       "      <td>60</td>\n",
       "    </tr>\n",
       "  </tbody>\n",
       "</table>\n",
       "</div>"
      ],
      "text/plain": [
       "    Pet ID  Outcome Type Sex upon Outcome        Name  \\\n",
       "0  A794011           1.0    Neutered Male       Chunk   \n",
       "1  A776359           1.0    Neutered Male       Gizmo   \n",
       "2  A674754           0.0      Intact Male         NaN   \n",
       "3  A689724           1.0    Neutered Male  *Donatello   \n",
       "4  A680969           1.0    Neutered Male       *Zeus   \n",
       "\n",
       "                        Found Location      Intake Type Intake Condition  \\\n",
       "0                          Austin (TX)  Owner Surrender           Normal   \n",
       "1    7201 Levander Loop in Austin (TX)            Stray           Normal   \n",
       "2        12034 Research in Austin (TX)            Stray          Nursing   \n",
       "3     2300 Waterway Bnd in Austin (TX)            Stray           Normal   \n",
       "4  4701 Staggerbrush Rd in Austin (TX)            Stray          Nursing   \n",
       "\n",
       "  Pet Type Sex upon Intake                    Breed               Color  \\\n",
       "0      Cat   Neutered Male   Domestic Shorthair Mix   Brown Tabby/White   \n",
       "1      Dog     Intact Male  Chihuahua Shorthair Mix         White/Brown   \n",
       "2      Cat     Intact Male   Domestic Shorthair Mix        Orange Tabby   \n",
       "3      Cat     Intact Male   Domestic Shorthair Mix               Black   \n",
       "4      Cat     Intact Male   Domestic Shorthair Mix  White/Orange Tabby   \n",
       "\n",
       "   Age upon Intake Days  Age upon Outcome Days  \n",
       "0                   730                    730  \n",
       "1                   365                    365  \n",
       "2                     6                      6  \n",
       "3                    60                     60  \n",
       "4                     7                     60  "
      ]
     },
     "execution_count": 2,
     "metadata": {},
     "output_type": "execute_result"
    }
   ],
   "source": [
    "# Print the first five rows\n",
    "# NaN means missing data\n",
    "df.head()"
   ]
  },
  {
   "cell_type": "code",
   "execution_count": 3,
   "metadata": {},
   "outputs": [
    {
     "name": "stdout",
     "output_type": "stream",
     "text": [
      "<class 'pandas.core.frame.DataFrame'>\n",
      "RangeIndex: 95485 entries, 0 to 95484\n",
      "Data columns (total 13 columns):\n",
      " #   Column                 Non-Null Count  Dtype  \n",
      "---  ------                 --------------  -----  \n",
      " 0   Pet ID                 95485 non-null  object \n",
      " 1   Outcome Type           95485 non-null  float64\n",
      " 2   Sex upon Outcome       95484 non-null  object \n",
      " 3   Name                   59138 non-null  object \n",
      " 4   Found Location         95485 non-null  object \n",
      " 5   Intake Type            95485 non-null  object \n",
      " 6   Intake Condition       95485 non-null  object \n",
      " 7   Pet Type               95485 non-null  object \n",
      " 8   Sex upon Intake        95484 non-null  object \n",
      " 9   Breed                  95485 non-null  object \n",
      " 10  Color                  95485 non-null  object \n",
      " 11  Age upon Intake Days   95485 non-null  int64  \n",
      " 12  Age upon Outcome Days  95485 non-null  int64  \n",
      "dtypes: float64(1), int64(2), object(10)\n",
      "memory usage: 9.5+ MB\n"
     ]
    }
   ],
   "source": [
    "# Let's see the data types and non-null values for each column\n",
    "df.info()"
   ]
  },
  {
   "cell_type": "code",
   "execution_count": 4,
   "metadata": {},
   "outputs": [
    {
     "data": {
      "text/html": [
       "<div>\n",
       "<style scoped>\n",
       "    .dataframe tbody tr th:only-of-type {\n",
       "        vertical-align: middle;\n",
       "    }\n",
       "\n",
       "    .dataframe tbody tr th {\n",
       "        vertical-align: top;\n",
       "    }\n",
       "\n",
       "    .dataframe thead th {\n",
       "        text-align: right;\n",
       "    }\n",
       "</style>\n",
       "<table border=\"1\" class=\"dataframe\">\n",
       "  <thead>\n",
       "    <tr style=\"text-align: right;\">\n",
       "      <th></th>\n",
       "      <th>Outcome Type</th>\n",
       "      <th>Age upon Intake Days</th>\n",
       "      <th>Age upon Outcome Days</th>\n",
       "    </tr>\n",
       "  </thead>\n",
       "  <tbody>\n",
       "    <tr>\n",
       "      <th>count</th>\n",
       "      <td>95485.000000</td>\n",
       "      <td>95485.000000</td>\n",
       "      <td>95485.000000</td>\n",
       "    </tr>\n",
       "    <tr>\n",
       "      <th>mean</th>\n",
       "      <td>0.564005</td>\n",
       "      <td>703.436959</td>\n",
       "      <td>717.757313</td>\n",
       "    </tr>\n",
       "    <tr>\n",
       "      <th>std</th>\n",
       "      <td>0.495889</td>\n",
       "      <td>1052.252197</td>\n",
       "      <td>1055.023160</td>\n",
       "    </tr>\n",
       "    <tr>\n",
       "      <th>min</th>\n",
       "      <td>0.000000</td>\n",
       "      <td>0.000000</td>\n",
       "      <td>0.000000</td>\n",
       "    </tr>\n",
       "    <tr>\n",
       "      <th>25%</th>\n",
       "      <td>0.000000</td>\n",
       "      <td>30.000000</td>\n",
       "      <td>60.000000</td>\n",
       "    </tr>\n",
       "    <tr>\n",
       "      <th>50%</th>\n",
       "      <td>1.000000</td>\n",
       "      <td>365.000000</td>\n",
       "      <td>365.000000</td>\n",
       "    </tr>\n",
       "    <tr>\n",
       "      <th>75%</th>\n",
       "      <td>1.000000</td>\n",
       "      <td>730.000000</td>\n",
       "      <td>730.000000</td>\n",
       "    </tr>\n",
       "    <tr>\n",
       "      <th>max</th>\n",
       "      <td>1.000000</td>\n",
       "      <td>9125.000000</td>\n",
       "      <td>9125.000000</td>\n",
       "    </tr>\n",
       "  </tbody>\n",
       "</table>\n",
       "</div>"
      ],
      "text/plain": [
       "       Outcome Type  Age upon Intake Days  Age upon Outcome Days\n",
       "count  95485.000000          95485.000000           95485.000000\n",
       "mean       0.564005            703.436959             717.757313\n",
       "std        0.495889           1052.252197            1055.023160\n",
       "min        0.000000              0.000000               0.000000\n",
       "25%        0.000000             30.000000              60.000000\n",
       "50%        1.000000            365.000000             365.000000\n",
       "75%        1.000000            730.000000             730.000000\n",
       "max        1.000000           9125.000000            9125.000000"
      ]
     },
     "execution_count": 4,
     "metadata": {},
     "output_type": "execute_result"
    }
   ],
   "source": [
    "# This prints basic statistics for numerical columns\n",
    "df.describe()"
   ]
  },
  {
   "cell_type": "markdown",
   "metadata": {},
   "source": [
    "Let's separate model features and model target. "
   ]
  },
  {
   "cell_type": "code",
   "execution_count": 5,
   "metadata": {},
   "outputs": [
    {
     "name": "stdout",
     "output_type": "stream",
     "text": [
      "Index(['Pet ID', 'Outcome Type', 'Sex upon Outcome', 'Name', 'Found Location',\n",
      "       'Intake Type', 'Intake Condition', 'Pet Type', 'Sex upon Intake',\n",
      "       'Breed', 'Color', 'Age upon Intake Days', 'Age upon Outcome Days'],\n",
      "      dtype='object')\n"
     ]
    }
   ],
   "source": [
    "print(df.columns)"
   ]
  },
  {
   "cell_type": "code",
   "execution_count": 6,
   "metadata": {},
   "outputs": [
    {
     "name": "stdout",
     "output_type": "stream",
     "text": [
      "Model features:  Index(['Pet ID', 'Sex upon Outcome', 'Name', 'Found Location', 'Intake Type',\n",
      "       'Intake Condition', 'Pet Type', 'Sex upon Intake', 'Breed', 'Color',\n",
      "       'Age upon Intake Days', 'Age upon Outcome Days'],\n",
      "      dtype='object')\n",
      "Model target:  Outcome Type\n"
     ]
    }
   ],
   "source": [
    "model_features = df.columns.drop('Outcome Type')\n",
    "model_target = 'Outcome Type'\n",
    "\n",
    "print('Model features: ', model_features)\n",
    "print('Model target: ', model_target)"
   ]
  },
  {
   "cell_type": "markdown",
   "metadata": {},
   "source": [
    "We can explore the features set further, figuring out first what features are numerical or categorical. Beware that some integer-valued features could actually be categorical features, and some categorical features could be text features. "
   ]
  },
  {
   "cell_type": "code",
   "execution_count": 7,
   "metadata": {},
   "outputs": [
    {
     "name": "stdout",
     "output_type": "stream",
     "text": [
      "Numerical columns: Index(['Age upon Intake Days', 'Age upon Outcome Days'], dtype='object')\n",
      "\n",
      "Categorical columns: Index(['Pet ID', 'Sex upon Outcome', 'Name', 'Found Location', 'Intake Type',\n",
      "       'Intake Condition', 'Pet Type', 'Sex upon Intake', 'Breed', 'Color'],\n",
      "      dtype='object')\n"
     ]
    }
   ],
   "source": [
    "import numpy as np\n",
    "numerical_features_all = df[model_features].select_dtypes(include=np.number).columns\n",
    "print('Numerical columns:',numerical_features_all)\n",
    "\n",
    "print('')\n",
    "\n",
    "categorical_features_all = df[model_features].select_dtypes(include='object').columns\n",
    "print('Categorical columns:',categorical_features_all)\n"
   ]
  },
  {
   "cell_type": "markdown",
   "metadata": {},
   "source": [
    "#### Target distribution\n",
    "\n",
    "Let's check our target distribution."
   ]
  },
  {
   "cell_type": "code",
   "execution_count": 8,
   "metadata": {
    "scrolled": true
   },
   "outputs": [
    {
     "data": {
      "image/png": "[encoded data removed]",
      "text/plain": [
       "<Figure size 640x480 with 1 Axes>"
      ]
     },
     "metadata": {},
     "output_type": "display_data"
    }
   ],
   "source": [
    "import matplotlib.pyplot as plt\n",
    "%matplotlib inline\n",
    "\n",
    "df[model_target].value_counts().plot.bar()\n",
    "plt.show()"
   ]
  },
  {
   "cell_type": "markdown",
   "metadata": {},
   "source": [
    "From the target plots we can identify whether or not we are dealing with imbalanced datasets - this means one result type is dominating the other one(s). \n",
    "\n",
    "Handling class imbalance is highly recommended, as the model performance can be greatly impacted. In particular the model may not work well for the infrequent classes, as there are not enough samples to learn patterns from, and so it would be hard for the classifier to identify and match those patterns. \n",
    "\n",
    "We might want to downsample the dominant class or upsample the rare the class, to help with learning its patterns. However, we should only fix the imbalance in training set, without changing the validation and test sets, as these should follow the original distribution. We will perform this task after train/test split. \n"
   ]
  },
  {
   "cell_type": "markdown",
   "metadata": {},
   "source": [
    "## 3. <a name=\"3\">Select features to build the model</a>\n",
    "(<a href=\"#0\">Go to top</a>)\n",
    "\n",
    "We only consider the __numerical features__ to build the model for this first sample solution. \n",
    "\n",
    "Let's examine the numerical features."
   ]
  },
  {
   "cell_type": "code",
   "execution_count": 9,
   "metadata": {},
   "outputs": [
    {
     "name": "stdout",
     "output_type": "stream",
     "text": [
      "Age upon Intake Days\n"
     ]
    },
    {
     "data": {
      "image/png": "[encoded data removed]",
      "text/plain": [
       "<Figure size 640x480 with 1 Axes>"
      ]
     },
     "metadata": {},
     "output_type": "display_data"
    },
    {
     "name": "stdout",
     "output_type": "stream",
     "text": [
      "Age upon Outcome Days\n"
     ]
    },
    {
     "data": {
      "image/png": "[encoded data removed]",
      "text/plain": [
       "<Figure size 640x480 with 1 Axes>"
      ]
     },
     "metadata": {},
     "output_type": "display_data"
    }
   ],
   "source": [
    "import matplotlib.pyplot as plt\n",
    "%matplotlib inline\n",
    "\n",
    "for c in numerical_features_all:\n",
    "    print(c)\n",
    "    df[c].plot.hist(bins=5)\n",
    "    plt.show()"
   ]
  },
  {
   "cell_type": "markdown",
   "metadata": {},
   "source": [
    "If for some histograms the values are heavily placed in the first bin, it is good to check for outliers, either checking the min-max values of those particular features and/or explore value ranges."
   ]
  },
  {
   "cell_type": "code",
   "execution_count": 10,
   "metadata": {},
   "outputs": [
    {
     "name": "stdout",
     "output_type": "stream",
     "text": [
      "Age upon Intake Days\n",
      "min: 0 max: 9125\n",
      "Age upon Outcome Days\n",
      "min: 0 max: 9125\n"
     ]
    }
   ],
   "source": [
    "for c in numerical_features_all:\n",
    "    print(c)\n",
    "    print('min:', df[c].min(), 'max:', df[c].max())"
   ]
  },
  {
   "cell_type": "markdown",
   "metadata": {},
   "source": [
    "With __value_counts()__ function, we can increase the number of histogram bins to 10 for more bins for a more refined view of the numerical features."
   ]
  },
  {
   "cell_type": "code",
   "execution_count": 11,
   "metadata": {},
   "outputs": [
    {
     "name": "stdout",
     "output_type": "stream",
     "text": [
      "Age upon Intake Days\n",
      "(-9.126, 912.5]     74835\n",
      "(912.5, 1825.0]     10647\n",
      "(1825.0, 2737.5]     3471\n",
      "(2737.5, 3650.0]     3998\n",
      "(3650.0, 4562.5]     1234\n",
      "(4562.5, 5475.0]     1031\n",
      "(5475.0, 6387.5]      183\n",
      "(6387.5, 7300.0]       79\n",
      "(7300.0, 8212.5]        5\n",
      "(8212.5, 9125.0]        2\n",
      "Name: count, dtype: int64\n",
      "Age upon Outcome Days\n",
      "(-9.126, 912.5]     74642\n",
      "(912.5, 1825.0]     10699\n",
      "(1825.0, 2737.5]     3465\n",
      "(2737.5, 3650.0]     4080\n",
      "(3650.0, 4562.5]     1263\n",
      "(4562.5, 5475.0]     1061\n",
      "(5475.0, 6387.5]      187\n",
      "(6387.5, 7300.0]       81\n",
      "(7300.0, 8212.5]        5\n",
      "(8212.5, 9125.0]        2\n",
      "Name: count, dtype: int64\n"
     ]
    }
   ],
   "source": [
    "for c in numerical_features_all: \n",
    "    print(c)\n",
    "    print(df[c].value_counts(bins=10, sort=False))\n",
    "    plt.show()"
   ]
  },
  {
   "cell_type": "markdown",
   "metadata": {},
   "source": [
    "If any outliers are identified as very likely wrong values, dropping them could improve the numerical values histograms, and later overall model performance. While a good rule of thumb is that anything not in the range of (Q1 - 1.5 IQR) and (Q3 + 1.5 IQR) is an outlier, other rules for removing 'outliers' should be considered as well. "
   ]
  },
  {
   "cell_type": "markdown",
   "metadata": {},
   "source": [
    "Let's check missing values for these numerical features."
   ]
  },
  {
   "cell_type": "code",
   "execution_count": 12,
   "metadata": {},
   "outputs": [
    {
     "name": "stdout",
     "output_type": "stream",
     "text": [
      "Age upon Intake Days     0\n",
      "Age upon Outcome Days    0\n",
      "dtype: int64\n"
     ]
    }
   ],
   "source": [
    "print(df[numerical_features_all].isna().sum())"
   ]
  },
  {
   "cell_type": "markdown",
   "metadata": {},
   "source": [
    "If any missing values, as a quick fix, we can apply mean imputation. This will replace the missing values with the mean value of the corresponding column.\n",
    "\n",
    "__Note__: The statistically correct way to perform mean/mode imputation before training an ML model is to compute the column-wise means on the training data only, and then use these values to impute missing data in both the train and test sets. So, you'll need to split your dataset first.\n",
    "\n",
    "Also, more exploratory data analysis might reveal other important hidden atributes and/or relationships of the model features considered. "
   ]
  },
  {
   "cell_type": "markdown",
   "metadata": {},
   "source": [
    "## 4. <a name=\"4\">Training and test datasets</a>\n",
    "(<a href=\"#0\">Go to top</a>)\n",
    "\n",
    "We split our dataset into training (90%) and test (10%) subsets using sklearn's [__train_test_split()__](https://scikit-learn.org/stable/modules/generated/sklearn.model_selection.train_test_split.html) function."
   ]
  },
  {
   "cell_type": "code",
   "execution_count": 13,
   "metadata": {},
   "outputs": [],
   "source": [
    "from sklearn.model_selection import train_test_split\n",
    "\n",
    "train_data, test_data = train_test_split(df, test_size=0.1, shuffle=True, random_state=23)"
   ]
  },
  {
   "cell_type": "markdown",
   "metadata": {},
   "source": [
    "#### Target balancing"
   ]
  },
  {
   "cell_type": "code",
   "execution_count": 14,
   "metadata": {},
   "outputs": [
    {
     "name": "stdout",
     "output_type": "stream",
     "text": [
      "Training set shape: (85936, 13)\n",
      "Class 0 samples in the training set: 37499\n",
      "Class 1 samples in the training set: 48437\n",
      "Class 0 samples in the test set: 4132\n",
      "Class 1 samples in the test set: 5417\n"
     ]
    }
   ],
   "source": [
    "print('Training set shape:', train_data.shape)\n",
    "\n",
    "print('Class 0 samples in the training set:', sum(train_data[model_target] == 0))\n",
    "print('Class 1 samples in the training set:', sum(train_data[model_target] == 1))\n",
    "\n",
    "print('Class 0 samples in the test set:', sum(test_data[model_target] == 0))\n",
    "print('Class 1 samples in the test set:', sum(test_data[model_target] == 1))"
   ]
  },
  {
   "cell_type": "markdown",
   "metadata": {},
   "source": [
    "__Important note:__ We want to fix the imbalance only in training set. We shouldn't change the validation and test sets, as these should follow the original distribution."
   ]
  },
  {
   "cell_type": "code",
   "execution_count": 15,
   "metadata": {},
   "outputs": [],
   "source": [
    "from sklearn.utils import shuffle\n",
    "\n",
    "class_0_no = train_data[train_data[model_target] == 0]\n",
    "class_1_no = train_data[train_data[model_target] == 1]\n",
    "\n",
    "upsampled_class_0_no = class_0_no.sample(n=len(class_1_no), replace=True, random_state=42)\n",
    "\n",
    "train_data = pd.concat([class_1_no, upsampled_class_0_no])\n",
    "train_data = shuffle(train_data)"
   ]
  },
  {
   "cell_type": "code",
   "execution_count": 16,
   "metadata": {},
   "outputs": [
    {
     "name": "stdout",
     "output_type": "stream",
     "text": [
      "Training set shape: (96874, 13)\n",
      "Class 1 samples in the training set: 48437\n",
      "Class 0 samples in the training set: 48437\n"
     ]
    }
   ],
   "source": [
    "print('Training set shape:', train_data.shape)\n",
    "\n",
    "print('Class 1 samples in the training set:', sum(train_data[model_target] == 1))\n",
    "print('Class 0 samples in the training set:', sum(train_data[model_target] == 0))"
   ]
  },
  {
   "cell_type": "markdown",
   "metadata": {},
   "source": [
    "## 5. <a name=\"5\">Data processing with Pipeline</a>\n",
    "(<a href=\"#0\">Go to top</a>)\n",
    "\n",
    "In a typical machine learning workflow you will need to apply data transformations, like imputation and scaling shown here, at least twice. First on the training dataset with __.fit()__ and __.transform()__, when preparing the data to training the model. And again, on any new data you want to predict on, with _-.transform()__. Scikit-learn [Pipeline](https://scikit-learn.org/stable/modules/generated/sklearn.pipeline.Pipeline.html) is a tool that simplifies this process by enforcing the implementation and order of data processing steps. \n",
    "\n",
    "We build a pipeline to impute the missing values with the mean using sklearn's SimpleImputer, scale the numerical features to have similar orders of magnitude by bringing them into the 0-1 range with sklearn's MinMaxScaler, and finally train an estimator [Decision Tree Classifier](https://scikit-learn.org/stable/modules/generated/sklearn.tree.DecisionTreeClassifier.html) on the imputed and scaled dataset. \n"
   ]
  },
  {
   "cell_type": "code",
   "execution_count": 17,
   "metadata": {},
   "outputs": [
    {
     "data": {
      "text/html": [
       "<style>#sk-container-id-1 {color: black;}#sk-container-id-1 pre{padding: 0;}#sk-container-id-1 div.sk-toggleable {background-color: white;}#sk-container-id-1 label.sk-toggleable__label {cursor: pointer;display: block;width: 100%;margin-bottom: 0;padding: 0.3em;box-sizing: border-box;text-align: center;}#sk-container-id-1 label.sk-toggleable__label-arrow:before {content: \"▸\";float: left;margin-right: 0.25em;color: #696969;}#sk-container-id-1 label.sk-toggleable__label-arrow:hover:before {color: black;}#sk-container-id-1 div.sk-estimator:hover label.sk-toggleable__label-arrow:before {color: black;}#sk-container-id-1 div.sk-toggleable__content {max-height: 0;max-width: 0;overflow: hidden;text-align: left;background-color: #f0f8ff;}#sk-container-id-1 div.sk-toggleable__content pre {margin: 0.2em;color: black;border-radius: 0.25em;background-color: #f0f8ff;}#sk-container-id-1 input.sk-toggleable__control:checked~div.sk-toggleable__content {max-height: 200px;max-width: 100%;overflow: auto;}#sk-container-id-1 input.sk-toggleable__control:checked~label.sk-toggleable__label-arrow:before {content: \"▾\";}#sk-container-id-1 div.sk-estimator input.sk-toggleable__control:checked~label.sk-toggleable__label {background-color: #d4ebff;}#sk-container-id-1 div.sk-label input.sk-toggleable__control:checked~label.sk-toggleable__label {background-color: #d4ebff;}#sk-container-id-1 input.sk-hidden--visually {border: 0;clip: rect(1px 1px 1px 1px);clip: rect(1px, 1px, 1px, 1px);height: 1px;margin: -1px;overflow: hidden;padding: 0;position: absolute;width: 1px;}#sk-container-id-1 div.sk-estimator {font-family: monospace;background-color: #f0f8ff;border: 1px dotted black;border-radius: 0.25em;box-sizing: border-box;margin-bottom: 0.5em;}#sk-container-id-1 div.sk-estimator:hover {background-color: #d4ebff;}#sk-container-id-1 div.sk-parallel-item::after {content: \"\";width: 100%;border-bottom: 1px solid gray;flex-grow: 1;}#sk-container-id-1 div.sk-label:hover label.sk-toggleable__label {background-color: #d4ebff;}#sk-container-id-1 div.sk-serial::before {content: \"\";position: absolute;border-left: 1px solid gray;box-sizing: border-box;top: 0;bottom: 0;left: 50%;z-index: 0;}#sk-container-id-1 div.sk-serial {display: flex;flex-direction: column;align-items: center;background-color: white;padding-right: 0.2em;padding-left: 0.2em;position: relative;}#sk-container-id-1 div.sk-item {position: relative;z-index: 1;}#sk-container-id-1 div.sk-parallel {display: flex;align-items: stretch;justify-content: center;background-color: white;position: relative;}#sk-container-id-1 div.sk-item::before, #sk-container-id-1 div.sk-parallel-item::before {content: \"\";position: absolute;border-left: 1px solid gray;box-sizing: border-box;top: 0;bottom: 0;left: 50%;z-index: -1;}#sk-container-id-1 div.sk-parallel-item {display: flex;flex-direction: column;z-index: 1;position: relative;background-color: white;}#sk-container-id-1 div.sk-parallel-item:first-child::after {align-self: flex-end;width: 50%;}#sk-container-id-1 div.sk-parallel-item:last-child::after {align-self: flex-start;width: 50%;}#sk-container-id-1 div.sk-parallel-item:only-child::after {width: 0;}#sk-container-id-1 div.sk-dashed-wrapped {border: 1px dashed gray;margin: 0 0.4em 0.5em 0.4em;box-sizing: border-box;padding-bottom: 0.4em;background-color: white;}#sk-container-id-1 div.sk-label label {font-family: monospace;font-weight: bold;display: inline-block;line-height: 1.2em;}#sk-container-id-1 div.sk-label-container {text-align: center;}#sk-container-id-1 div.sk-container {/* jupyter's `normalize.less` sets `[hidden] { display: none; }` but bootstrap.min.css set `[hidden] { display: none !important; }` so we also need the `!important` here to be able to override the default hidden behavior on the sphinx rendered scikit-learn.org. See: https://github.com/scikit-learn/scikit-learn/issues/21755 */display: inline-block !important;position: relative;}#sk-container-id-1 div.sk-text-repr-fallback {display: none;}</style><div id=\"sk-container-id-1\" class=\"sk-top-container\"><div class=\"sk-text-repr-fallback\"><pre>Pipeline(steps=[(&#x27;imputer&#x27;, SimpleImputer()), (&#x27;scaler&#x27;, MinMaxScaler()),\n",
       "                (&#x27;estimator&#x27;, KNeighborsClassifier(n_neighbors=3))])</pre><b>In a Jupyter environment, please rerun this cell to show the HTML representation or trust the notebook. <br />On GitHub, the HTML representation is unable to render, please try loading this page with nbviewer.org.</b></div><div class=\"sk-container\" hidden><div class=\"sk-item sk-dashed-wrapped\"><div class=\"sk-label-container\"><div class=\"sk-label sk-toggleable\"><input class=\"sk-toggleable__control sk-hidden--visually\" id=\"sk-estimator-id-1\" type=\"checkbox\" ><label for=\"sk-estimator-id-1\" class=\"sk-toggleable__label sk-toggleable__label-arrow\">Pipeline</label><div class=\"sk-toggleable__content\"><pre>Pipeline(steps=[(&#x27;imputer&#x27;, SimpleImputer()), (&#x27;scaler&#x27;, MinMaxScaler()),\n",
       "                (&#x27;estimator&#x27;, KNeighborsClassifier(n_neighbors=3))])</pre></div></div></div><div class=\"sk-serial\"><div class=\"sk-item\"><div class=\"sk-estimator sk-toggleable\"><input class=\"sk-toggleable__control sk-hidden--visually\" id=\"sk-estimator-id-2\" type=\"checkbox\" ><label for=\"sk-estimator-id-2\" class=\"sk-toggleable__label sk-toggleable__label-arrow\">SimpleImputer</label><div class=\"sk-toggleable__content\"><pre>SimpleImputer()</pre></div></div></div><div class=\"sk-item\"><div class=\"sk-estimator sk-toggleable\"><input class=\"sk-toggleable__control sk-hidden--visually\" id=\"sk-estimator-id-3\" type=\"checkbox\" ><label for=\"sk-estimator-id-3\" class=\"sk-toggleable__label sk-toggleable__label-arrow\">MinMaxScaler</label><div class=\"sk-toggleable__content\"><pre>MinMaxScaler()</pre></div></div></div><div class=\"sk-item\"><div class=\"sk-estimator sk-toggleable\"><input class=\"sk-toggleable__control sk-hidden--visually\" id=\"sk-estimator-id-4\" type=\"checkbox\" ><label for=\"sk-estimator-id-4\" class=\"sk-toggleable__label sk-toggleable__label-arrow\">KNeighborsClassifier</label><div class=\"sk-toggleable__content\"><pre>KNeighborsClassifier(n_neighbors=3)</pre></div></div></div></div></div></div></div>"
      ],
      "text/plain": [
       "Pipeline(steps=[('imputer', SimpleImputer()), ('scaler', MinMaxScaler()),\n",
       "                ('estimator', KNeighborsClassifier(n_neighbors=3))])"
      ]
     },
     "execution_count": 17,
     "metadata": {},
     "output_type": "execute_result"
    }
   ],
   "source": [
    "from sklearn.model_selection import train_test_split\n",
    "from sklearn.impute import SimpleImputer\n",
    "from sklearn.preprocessing import MinMaxScaler\n",
    "from sklearn.neighbors import KNeighborsClassifier\n",
    "from sklearn.pipeline import Pipeline\n",
    "\n",
    "### PIPELINE ###\n",
    "################\n",
    "\n",
    "# Pipeline desired data transformers, along with an estimator at the end\n",
    "# For each step specify: a name, the actual transformer/estimator with its parameters\n",
    "classifier = Pipeline([\n",
    "    ('imputer', SimpleImputer(strategy='mean')),\n",
    "    ('scaler', MinMaxScaler()),\n",
    "    ('estimator', KNeighborsClassifier(n_neighbors = 3))\n",
    "])\n",
    "\n",
    "# Visualize the pipeline\n",
    "# This will come in handy especially when building more complex pipelines, stringing together multiple preprocessing steps\n",
    "from sklearn import set_config\n",
    "set_config(display='diagram')\n",
    "classifier"
   ]
  },
  {
   "cell_type": "markdown",
   "metadata": {},
   "source": [
    "## 6. <a name=\"6\">Train a classifier</a>\n",
    "(<a href=\"#0\">Go to top</a>)\n",
    "\n",
    "We train our classifier with __.fit()__ on our training dataset. "
   ]
  },
  {
   "cell_type": "code",
   "execution_count": 18,
   "metadata": {},
   "outputs": [
    {
     "data": {
      "text/html": [
       "<style>#sk-container-id-2 {color: black;}#sk-container-id-2 pre{padding: 0;}#sk-container-id-2 div.sk-toggleable {background-color: white;}#sk-container-id-2 label.sk-toggleable__label {cursor: pointer;display: block;width: 100%;margin-bottom: 0;padding: 0.3em;box-sizing: border-box;text-align: center;}#sk-container-id-2 label.sk-toggleable__label-arrow:before {content: \"▸\";float: left;margin-right: 0.25em;color: #696969;}#sk-container-id-2 label.sk-toggleable__label-arrow:hover:before {color: black;}#sk-container-id-2 div.sk-estimator:hover label.sk-toggleable__label-arrow:before {color: black;}#sk-container-id-2 div.sk-toggleable__content {max-height: 0;max-width: 0;overflow: hidden;text-align: left;background-color: #f0f8ff;}#sk-container-id-2 div.sk-toggleable__content pre {margin: 0.2em;color: black;border-radius: 0.25em;background-color: #f0f8ff;}#sk-container-id-2 input.sk-toggleable__control:checked~div.sk-toggleable__content {max-height: 200px;max-width: 100%;overflow: auto;}#sk-container-id-2 input.sk-toggleable__control:checked~label.sk-toggleable__label-arrow:before {content: \"▾\";}#sk-container-id-2 div.sk-estimator input.sk-toggleable__control:checked~label.sk-toggleable__label {background-color: #d4ebff;}#sk-container-id-2 div.sk-label input.sk-toggleable__control:checked~label.sk-toggleable__label {background-color: #d4ebff;}#sk-container-id-2 input.sk-hidden--visually {border: 0;clip: rect(1px 1px 1px 1px);clip: rect(1px, 1px, 1px, 1px);height: 1px;margin: -1px;overflow: hidden;padding: 0;position: absolute;width: 1px;}#sk-container-id-2 div.sk-estimator {font-family: monospace;background-color: #f0f8ff;border: 1px dotted black;border-radius: 0.25em;box-sizing: border-box;margin-bottom: 0.5em;}#sk-container-id-2 div.sk-estimator:hover {background-color: #d4ebff;}#sk-container-id-2 div.sk-parallel-item::after {content: \"\";width: 100%;border-bottom: 1px solid gray;flex-grow: 1;}#sk-container-id-2 div.sk-label:hover label.sk-toggleable__label {background-color: #d4ebff;}#sk-container-id-2 div.sk-serial::before {content: \"\";position: absolute;border-left: 1px solid gray;box-sizing: border-box;top: 0;bottom: 0;left: 50%;z-index: 0;}#sk-container-id-2 div.sk-serial {display: flex;flex-direction: column;align-items: center;background-color: white;padding-right: 0.2em;padding-left: 0.2em;position: relative;}#sk-container-id-2 div.sk-item {position: relative;z-index: 1;}#sk-container-id-2 div.sk-parallel {display: flex;align-items: stretch;justify-content: center;background-color: white;position: relative;}#sk-container-id-2 div.sk-item::before, #sk-container-id-2 div.sk-parallel-item::before {content: \"\";position: absolute;border-left: 1px solid gray;box-sizing: border-box;top: 0;bottom: 0;left: 50%;z-index: -1;}#sk-container-id-2 div.sk-parallel-item {display: flex;flex-direction: column;z-index: 1;position: relative;background-color: white;}#sk-container-id-2 div.sk-parallel-item:first-child::after {align-self: flex-end;width: 50%;}#sk-container-id-2 div.sk-parallel-item:last-child::after {align-self: flex-start;width: 50%;}#sk-container-id-2 div.sk-parallel-item:only-child::after {width: 0;}#sk-container-id-2 div.sk-dashed-wrapped {border: 1px dashed gray;margin: 0 0.4em 0.5em 0.4em;box-sizing: border-box;padding-bottom: 0.4em;background-color: white;}#sk-container-id-2 div.sk-label label {font-family: monospace;font-weight: bold;display: inline-block;line-height: 1.2em;}#sk-container-id-2 div.sk-label-container {text-align: center;}#sk-container-id-2 div.sk-container {/* jupyter's `normalize.less` sets `[hidden] { display: none; }` but bootstrap.min.css set `[hidden] { display: none !important; }` so we also need the `!important` here to be able to override the default hidden behavior on the sphinx rendered scikit-learn.org. See: https://github.com/scikit-learn/scikit-learn/issues/21755 */display: inline-block !important;position: relative;}#sk-container-id-2 div.sk-text-repr-fallback {display: none;}</style><div id=\"sk-container-id-2\" class=\"sk-top-container\"><div class=\"sk-text-repr-fallback\"><pre>Pipeline(steps=[(&#x27;imputer&#x27;, SimpleImputer()), (&#x27;scaler&#x27;, MinMaxScaler()),\n",
       "                (&#x27;estimator&#x27;, KNeighborsClassifier(n_neighbors=3))])</pre><b>In a Jupyter environment, please rerun this cell to show the HTML representation or trust the notebook. <br />On GitHub, the HTML representation is unable to render, please try loading this page with nbviewer.org.</b></div><div class=\"sk-container\" hidden><div class=\"sk-item sk-dashed-wrapped\"><div class=\"sk-label-container\"><div class=\"sk-label sk-toggleable\"><input class=\"sk-toggleable__control sk-hidden--visually\" id=\"sk-estimator-id-5\" type=\"checkbox\" ><label for=\"sk-estimator-id-5\" class=\"sk-toggleable__label sk-toggleable__label-arrow\">Pipeline</label><div class=\"sk-toggleable__content\"><pre>Pipeline(steps=[(&#x27;imputer&#x27;, SimpleImputer()), (&#x27;scaler&#x27;, MinMaxScaler()),\n",
       "                (&#x27;estimator&#x27;, KNeighborsClassifier(n_neighbors=3))])</pre></div></div></div><div class=\"sk-serial\"><div class=\"sk-item\"><div class=\"sk-estimator sk-toggleable\"><input class=\"sk-toggleable__control sk-hidden--visually\" id=\"sk-estimator-id-6\" type=\"checkbox\" ><label for=\"sk-estimator-id-6\" class=\"sk-toggleable__label sk-toggleable__label-arrow\">SimpleImputer</label><div class=\"sk-toggleable__content\"><pre>SimpleImputer()</pre></div></div></div><div class=\"sk-item\"><div class=\"sk-estimator sk-toggleable\"><input class=\"sk-toggleable__control sk-hidden--visually\" id=\"sk-estimator-id-7\" type=\"checkbox\" ><label for=\"sk-estimator-id-7\" class=\"sk-toggleable__label sk-toggleable__label-arrow\">MinMaxScaler</label><div class=\"sk-toggleable__content\"><pre>MinMaxScaler()</pre></div></div></div><div class=\"sk-item\"><div class=\"sk-estimator sk-toggleable\"><input class=\"sk-toggleable__control sk-hidden--visually\" id=\"sk-estimator-id-8\" type=\"checkbox\" ><label for=\"sk-estimator-id-8\" class=\"sk-toggleable__label sk-toggleable__label-arrow\">KNeighborsClassifier</label><div class=\"sk-toggleable__content\"><pre>KNeighborsClassifier(n_neighbors=3)</pre></div></div></div></div></div></div></div>"
      ],
      "text/plain": [
       "Pipeline(steps=[('imputer', SimpleImputer()), ('scaler', MinMaxScaler()),\n",
       "                ('estimator', KNeighborsClassifier(n_neighbors=3))])"
      ]
     },
     "execution_count": 18,
     "metadata": {},
     "output_type": "execute_result"
    }
   ],
   "source": [
    "# Get train data to train the classifier\n",
    "X_train = train_data[numerical_features_all]\n",
    "y_train = train_data[model_target]\n",
    "\n",
    "# Fit the classifier to training data\n",
    "# Train data going through the Pipeline it's first imputed, then scaled, and finally used to fit the estimator\n",
    "classifier.fit(X_train, y_train)\n"
   ]
  },
  {
   "cell_type": "markdown",
   "metadata": {},
   "source": [
    "## 7. <a name=\"7\">Test the classifier</a>\n",
    "(<a href=\"#0\">Go to top</a>)\n",
    "\n",
    "Let's evaluate the performance of the trained classifier. We use __.predict()__ this time. \n",
    "\n",
    "Let's first see how the model works on the training dataset."
   ]
  },
  {
   "cell_type": "code",
   "execution_count": 19,
   "metadata": {},
   "outputs": [
    {
     "name": "stdout",
     "output_type": "stream",
     "text": [
      "Model performance on the train set:\n",
      "[[30095 18342]\n",
      " [22205 26232]]\n",
      "              precision    recall  f1-score   support\n",
      "\n",
      "         0.0       0.58      0.62      0.60     48437\n",
      "         1.0       0.59      0.54      0.56     48437\n",
      "\n",
      "    accuracy                           0.58     96874\n",
      "   macro avg       0.58      0.58      0.58     96874\n",
      "weighted avg       0.58      0.58      0.58     96874\n",
      "\n",
      "Train accuracy: 0.5814460020232467\n"
     ]
    }
   ],
   "source": [
    "from sklearn.metrics import confusion_matrix, classification_report, accuracy_score, f1_score\n",
    "\n",
    "# Use the fitted model to make predictions on the train dataset\n",
    "# Train data going through the Pipeline it's first imputed (with means from the train), scaled (with the min/max from the train data), and finally used to make predictions\n",
    "train_predictions = classifier.predict(X_train)\n",
    "\n",
    "print('Model performance on the train set:')\n",
    "print(confusion_matrix(y_train, train_predictions))\n",
    "print(classification_report(y_train, train_predictions))\n",
    "print(\"Train accuracy:\", accuracy_score(y_train, train_predictions))"
   ]
  },
  {
   "cell_type": "markdown",
   "metadata": {},
   "source": [
    "And now, let's evaluate the performance of the classifier on the test set."
   ]
  },
  {
   "cell_type": "code",
   "execution_count": 20,
   "metadata": {},
   "outputs": [
    {
     "name": "stdout",
     "output_type": "stream",
     "text": [
      "Model performance on the test set:\n",
      "[[2573 1559]\n",
      " [2485 2932]]\n",
      "              precision    recall  f1-score   support\n",
      "\n",
      "         0.0       0.51      0.62      0.56      4132\n",
      "         1.0       0.65      0.54      0.59      5417\n",
      "\n",
      "    accuracy                           0.58      9549\n",
      "   macro avg       0.58      0.58      0.58      9549\n",
      "weighted avg       0.59      0.58      0.58      9549\n",
      "\n",
      "Test accuracy: 0.5765001570845115\n"
     ]
    }
   ],
   "source": [
    "from sklearn.metrics import confusion_matrix, classification_report, accuracy_score, f1_score\n",
    "\n",
    "# Get test data to test the classifier\n",
    "X_test = test_data[numerical_features_all]\n",
    "y_test = test_data[model_target]\n",
    "\n",
    "# Use the fitted model to make predictions on the test dataset\n",
    "# Test data going through the Pipeline it's first imputed (with means from the train), scaled (with the min/max from the train data), and finally used to make predictions\n",
    "test_predictions = classifier.predict(X_test)\n",
    "\n",
    "print('Model performance on the test set:')\n",
    "print(confusion_matrix(y_test, test_predictions))\n",
    "print(classification_report(y_test, test_predictions))\n",
    "print(\"Test accuracy:\", accuracy_score(y_test, test_predictions))"
   ]
  },
  {
   "cell_type": "markdown",
   "metadata": {},
   "source": [
    "## 8. <a name=\"8\">Improvement ideas</a>\n",
    "(<a href=\"#0\">Go to top</a>)\n",
    "\n",
    "* Tune K parameter: You can use the [__train_test_split()__](https://scikit-learn.org/stable/modules/generated/sklearn.model_selection.train_test_split.html) function on the training set, create a validation set,  and search for optimum K value using the validation performance.\n"
   ]
  },
  {
   "cell_type": "code",
   "execution_count": null,
   "metadata": {},
   "outputs": [],
   "source": []
  },
  {
   "cell_type": "code",
   "execution_count": null,
   "metadata": {},
   "outputs": [],
   "source": []
  }
 ],
 "metadata": {
  "kernelspec": {
   "display_name": "conda_python3",
   "language": "python",
   "name": "conda_python3"
  },
  "language_info": {
   "codemirror_mode": {
    "name": "ipython",
    "version": 3
   },
   "file_extension": ".py",
   "mimetype": "text/x-python",
   "name": "python",
   "nbconvert_exporter": "python",
   "pygments_lexer": "ipython3",
   "version": "3.10.13"
  }
 },
 "nbformat": 4,
 "nbformat_minor": 4
}
